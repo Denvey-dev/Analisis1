{
  "cells": [
    {
      "cell_type": "markdown",
      "metadata": {
        "id": "view-in-github"
      },
      "source": [
        "<a href=\"https://colab.research.google.com/github/AirSunday/Study_Data_Analysis/blob/main/lab11.ipynb\" target=\"_parent\"><img src=\"https://colab.research.google.com/assets/colab-badge.svg\" alt=\"Open In Colab\"/></a>"
      ]
    },
    {
      "cell_type": "markdown",
      "metadata": {
        "id": "m2s4kN_QPQVe"
      },
      "source": [
        "# Введение в обучение с подкреплением  (Reinforcement Learning)\n",
        "\n",
        "\n",
        "<center>\n",
        "<img src=\"https://raw.githubusercontent.com/jcformanek/jcformanek.github.io/master/docs/assets/images/rl_in_space.png\" width=\"100%\" />\n",
        "</center>\n",
        "\n",
        "\n",
        "\n",
        "**Введение**\n",
        "\n",
        "На этом семинаре мы изучим обучение с подкреплением - тип машинного обучения без учителя, где агент учится выбирать действия, которые приводят к максимальному вознаграждению в долгосрочной перспективе. Обучение с подкреплением используется в широком спектре сложных задач, в том числе - в видеоиграх, например, [Atari](https://www.deepmind.com/blog/agent57-outperforming-the-human-atari-benchmark), [StarCraft II](https://www.deepmind.com/blog/alphastar-mastering-the-real-time-strategy-game-starcraft-ii) и [Dota II](https://openai.com/five/).\n",
        "\n",
        "На семинаре изучим классическую среду - [CartPole](https://www.gymlibrary.ml/environments/classic_control/cart_pole/), где агент должен научиться балансировать шестом на тележке (см лекцию), используя несколько различных подходов RL. По пути вы познакомитесь с некоторыми из самых важных концепций и терминологии в RL.\n",
        "\n",
        "**Темы:**\n",
        "* Reinforcement Learning (RL, Обучение с подкреплением)\n",
        "* Random Policy Search (Случайный поиск политики)\n",
        "* Policy Gradient (Градиент политики)\n",
        "* Q-Learning\n",
        "\n",
        "\n",
        "**Что надо сделать для лучшего понимания:**\n",
        "\n",
        "* почитать про библиотеку [JAX](https://github.com/google/jax).\n",
        "* вспомнить нейроки.\n",
        "\n"
      ]
    },
    {
      "cell_type": "markdown",
      "metadata": {
        "id": "6EqhIg1odqg0"
      },
      "source": [
        "### Настраиваем среду"
      ]
    },
    {
      "cell_type": "code",
      "execution_count": null,
      "metadata": {
        "id": "4boGA9rYdt9l"
      },
      "outputs": [],
      "source": [
        "# @title Установка необходимых пакетов (надо просто запустить!) { display-mode: \"form\" }\n",
        "# @markdown Может занять несколько минут\n",
        "%%capture\n",
        "!pip install jaxlib\n",
        "!pip install jax\n",
        "!pip install git+https://github.com/deepmind/dm-haiku\n",
        "!pip install gym==0.25\n",
        "!pip install gym[box2d]\n",
        "!pip install optax\n",
        "!pip install matplotlib\n",
        "!pip install chex\n",
        "!pip install gym[classic_control]"
      ]
    },
    {
      "cell_type": "code",
      "execution_count": null,
      "metadata": {
        "id": "gwbqggmcRjMy"
      },
      "outputs": [],
      "source": [
        "# @title Импорт необходимых пакетов (просто запустите ячейку) { display-mode: \"form\" }\n",
        "%%capture\n",
        "import copy\n",
        "from shutil import rmtree # deleting directories\n",
        "import random\n",
        "import collections # useful data structures\n",
        "import numpy as np\n",
        "import gym # reinforcement learning environments\n",
        "from gym.wrappers import RecordVideo\n",
        "import jax\n",
        "import jax.numpy as jnp # jax numpy\n",
        "import haiku as hk # jax neural network library\n",
        "import optax # jax optimizer library\n",
        "import matplotlib.pyplot as plt # graph plotting library\n",
        "from IPython.display import HTML\n",
        "from base64 import b64encode\n",
        "import chex\n",
        "\n",
        "# Hide warnings\n",
        "import warnings\n",
        "warnings.filterwarnings('ignore')"
      ]
    },
    {
      "cell_type": "markdown",
      "metadata": {
        "id": "-ZUp8i37dFbU"
      },
      "source": [
        "## 1. Ключевые концепции обучения с подкреплением\n",
        "\n",
        "Обучение с подкреплением (RL) является подразделом машинного обучения (ML). В отличие от таких областей, как контролируемое обучение, где мы даем примеры ожидаемого поведения нашим моделям, RL фокусируется на *целеориентированном* обучении из взаимодействий методом проб и ошибок. Алгоритмы RL изучают, что делать (т. е. какие оптимальные действия предпринять) в среде, чтобы максимизировать некий сигнал вознаграждения. В таких условиях, как видеоигра, сигналом вознаграждения может быть счет игры, т. е. алгоритмы RL будут пытаться максимизировать счет в игре, выбирая лучшие действия.\n",
        "\n",
        "<center>\n",
        "<img src=\"https://pettingzoo.farama.org/_images/environments-demo.gif\" width=\"40%\" />\n",
        "</center>\n",
        "\n",
        "[*Image Source*](https://pettingzoo.farama.org/)\n",
        "\n",
        "Другими словами, в RL у нас есть **агент**, который воспринимает **наблюдение** $o_t$ текущего состояния $s_t$ **окружающей среды** и должен выбрать **действие** $a_t$ для выполнения.\n",
        "\n",
        "Затем окружающая среда переходит в новое состояние $s_{t+1}$ в ответ на действие агента, а также дает агенту скалярное вознаграждение $r_t$, чтобы указать, насколько хорошим или плохим было выбранное действие, учитывая состояние окружающей среды.\n",
        "\n",
        "Целью в RL является максимизация агентом суммы вознаграждения, которое он получает от окружающей среды с течением времени. Нижний индекс $t$ используется для указания номера временного шага, т. е. $s_0$ - это состояние окружающей среды на начальном временном шаге, а $a_{99}$ - это действие агента на $99-м$ временном шаге."
      ]
    },
    {
      "cell_type": "markdown",
      "metadata": {
        "id": "Ghgy69hFRjMz"
      },
      "source": [
        "### Среда - OpenAI Gym\n",
        "Как упоминалось выше, среда получает от агента действие $a_t$ и возвращает вознаграждение $r_t$ и наблюдение $o_t$.\n",
        "\n",
        "OpenAI разработал пакет для Python под названием **Gym**, который включает реализации популярных сред и простой интерфейс для взаимодействия агента RL. Чтобы использовать поддерживаемую [среду gym](https://www.gymlibrary.ml/), все, что вам нужно сделать, это передать имя среды в функцию  `gym.make(<environment_name>)`.\n",
        "\n",
        "В этом уроке мы будем использовать простую среду под названием **CartPole**. В CartPole задача агента — научиться балансировать на шесте как можно дольше, перемещая тележку *влево* или *вправо*.\n",
        "\n",
        "<img src=\"https://user-images.githubusercontent.com/10854026/32486103-f15f19de-c3a5-11e7-81de-0605df939497.gif\" width=\"50%\" />"
      ]
    },
    {
      "cell_type": "code",
      "execution_count": null,
      "metadata": {
        "id": "WfxzajMYRjMz"
      },
      "outputs": [],
      "source": [
        "# Create the environment\n",
        "env_name = \"CartPole-v0\"\n",
        "env = gym.make(env_name)"
      ]
    },
    {
      "cell_type": "markdown",
      "metadata": {
        "id": "y_BbftaJj3zu"
      },
      "source": [
        "### Состояние (States) и Наблюдение (Observations) - $s_t$ and $o_t$\n",
        "\n",
        "В RL агент воспринимает наблюдение за состоянием среды. В некоторых настройках наблюдение может включать всю информацию, лежащую в основе состояния среды. Такая среда называется **полностью наблюдаемой**. В других настройках агент может получать только частичную информацию о состоянии среды в своем наблюдении. Такая среда называется **частично наблюдаемой**.\n",
        "\n",
        "В оставшейся части этого руководства мы будем предполагать, что среда полностью наблюдаема, и поэтому будем использовать состояние $s_t$ и наблюдение $o_t$ взаимозаменяемо. В Gym мы получаем начальное наблюдение из среды, вызывая функцию `env.reset()`."
      ]
    },
    {
      "cell_type": "code",
      "execution_count": null,
      "metadata": {
        "id": "HdS8nqOgRjM0",
        "colab": {
          "base_uri": "https://localhost:8080/"
        },
        "outputId": "b2749f4d-5904-42aa-e59b-f50d35430cc2"
      },
      "outputs": [
        {
          "output_type": "stream",
          "name": "stdout",
          "text": [
            "Initial State:: [7.0271257e-05 1.7271578e-02 8.9512179e-03 1.4391748e-02]\n",
            "Environment Obs Space Shape: (4,)\n"
          ]
        }
      ],
      "source": [
        "# Reset the environment\n",
        "s_0 = env.reset()\n",
        "print(\"Initial State::\", s_0)\n",
        "\n",
        "# Get environment obs space\n",
        "obs_shape = env.observation_space.shape\n",
        "print(\"Environment Obs Space Shape:\", obs_shape)"
      ]
    },
    {
      "cell_type": "markdown",
      "metadata": {
        "id": "pUNX6mbotABo"
      },
      "source": [
        "В CartPole состояние окружающей среды представлено четырьмя числами: *угловое положение полюса, угловая скорость полюса, положение тележки, скорость тележки*."
      ]
    },
    {
      "cell_type": "markdown",
      "metadata": {
        "id": "hL1Nkgy7nUfn"
      },
      "source": [
        "### Действия (Actions) - $a_t$\n",
        "\n",
        "В RL действия обычно либо **дискретные**, либо **непрерывные**. Непрерывные действия задаются вектором действительных чисел. Дискретные действия задаются целочисленным значением. В средах, где мы можем подсчитать конечный набор действий, мы обычно используем дискретные действия.\n",
        "\n",
        "В CartPole есть только два действия: *влево* и *вправо*. Таким образом, действия могут быть представлены целыми числами $0$ и $1$. В gym мы можем легко получить список возможных действий следующим образом:"
      ]
    },
    {
      "cell_type": "markdown",
      "source": [
        "# Get action space - e.g. discrete or continuous\n",
        "print(f\"Environment action space: {env.action_space}\")\n",
        "\n",
        "# Get num actions\n",
        "num_actions = env.action_space.n\n",
        "print(f\"Number of actions: {num_actions}\")"
      ],
      "metadata": {
        "id": "uOLZqU_LpIXh"
      }
    },
    {
      "cell_type": "markdown",
      "metadata": {
        "id": "tRsflxbDpoPm"
      },
      "source": [
        "### Политика агента (The Agent's Policy) - $\\pi$\n",
        "\n",
        "В RL агент выбирает действия на основе полученных наблюдений. Мы можем представить процесс выбора действия агента как функцию, которая принимает наблюдение в качестве входных данных и возвращает действие в качестве выходных данных. В RL мы обычно называем эту функцию **политикой** агента и обозначаем ее $\\pi(s_t)=a_t$. В RL мы обычно параметризуем нашу политику каким-либо образом, а затем пытаемся узнать оптимальные параметры. Параметризованная политика обычно обозначается $\\pi_\\theta$, где $\\theta$ — это набор параметров.\n",
        "\n",
        "**Упражнение 1:** В качестве упражнения давайте реализуем простую политику, которая принимает набор параметров и наблюдение в качестве входных данных и возвращает действие. Предположим, что наблюдение — это вектор из четырех чисел, как наблюдение CartPole, и что действие должно быть либо $0$, либо $1$. Предположим также, что параметры — это вектор из четырех действительных чисел. Тогда действие должно быть вычислено следующим образом.\n",
        "\n",
        "\n",
        "1. Вычислите [скалярное произведение векторов](https://www.mathsisfun.com/algebra/vectors-dot-product.html) между наблюдением и параметрами.\n",
        "2. Если результат больше нуля, верните действие $1$.\n",
        "3. В противном случае верните действие $0$.\n",
        "\n",
        "В этом упражнении мы постараемся использовать JAX как можно чаще. Поэтому постарайтесь использовать методы JAX для этой задачи. Ниже приведены некоторые полезные методы, которые вы можете использовать. Вам нужно будет завершить код в блоке ниже, заменив `...` правильным кодом.\n",
        "\n",
        "\n",
        "**Полезные методы:**\n",
        "* Вычислите скалярное произведение векторов с помощью `jax.numpy.dot` ([docs](https://jax.readthedocs.io/en/latest/_autosummary/jax.numpy.dot.html)).\n",
        "\n",
        "* Когда вы пытаетесь условно присвоить значение $0$ или $1$ действию на основе результата скалярного произведения, вам следует использовать `jax.lax.select` ([docs](https://jax.readthedocs.io/en/latest/_autosummary/jax.lax.select.html#jax.lax.select)).\n",
        "\n",
        "Метод `jax.lax.select` принимает три аргумента в качестве входных данных. Первый аргумент — это оператор, который будет оцениваться как `True` или `False`.\n",
        "\n",
        "Если оператор равен `True`, то `jax.lax.select` вернет свой второй аргумент.\n",
        "\n",
        "Если оператор имеет значение `False`, `jax.lax.select` вернет свой третий аргумент.\n",
        "\n"
      ]
    },
    {
      "cell_type": "code",
      "execution_count": null,
      "metadata": {
        "id": "KSGCd7XB1z8k"
      },
      "outputs": [],
      "source": [
        "import jax\n",
        "import jax.numpy as jnp\n",
        "\n",
        "def linear_policy(params, obs):\n",
        "  \"\"\"A simple linear policy\n",
        "\n",
        "  Args:\n",
        "    params: a vector of four real-numbers that give the parameters of the policy\n",
        "    obs: a vector of four real-numbers that give the agent's observation\n",
        "\n",
        "  Returns:\n",
        "    a discrete action given by a 0 or 1\n",
        "  \"\"\"\n",
        "  # YOUR CODE\n",
        "  dot_product_result = jnp.dot(params, obs)  # Compute the dot product\n",
        "\n",
        "  action = jax.lax.select(\n",
        "      dot_product_result > 0,  # boolean statement goes here\n",
        "      1,  # result when the statement is True goes here\n",
        "      0   # result when the statement is False goes here\n",
        "  )\n",
        "  # END YOUR CODE\n",
        "  return action"
      ]
    },
    {
      "cell_type": "code",
      "execution_count": null,
      "metadata": {
        "id": "9EnnBvceb1f3",
        "colab": {
          "base_uri": "https://localhost:8080/"
        },
        "outputId": "52d8ff65-be4a-4b1a-e9c8-00de8fd639f2"
      },
      "outputs": [
        {
          "output_type": "stream",
          "name": "stdout",
          "text": [
            "Your function is correct!\n"
          ]
        }
      ],
      "source": [
        "# @title Проверка упр 1  { display-mode: \"form\" }\n",
        "\n",
        "def check_linear_policy(linear_policy):\n",
        "  fixed_obs = jnp.array([1,1,2,4])\n",
        "\n",
        "  # check case1 - negative dot product.\n",
        "  # weights\n",
        "  params1 = jnp.array([1,1,1,1])\n",
        "  params2 = jnp.array([-1,-1,-1,-1])\n",
        "\n",
        "  hint1 = f\"Неправильный ответ, ваша линейная политика неверна. Действие при \\\n",
        "obs={fixed_obs} и params={params1} должно быть 1\"\n",
        "\n",
        "  hint2 = f\"Неправильный ответ, ваша линейная политика неверна. Действие при \\\n",
        "obs={fixed_obs} и params={params2} должно быть 0\"\n",
        "\n",
        "  hint = None\n",
        "  if linear_policy(params1, fixed_obs) != 1:\n",
        "    hint = hint1\n",
        "  elif linear_policy(params2, fixed_obs) != 0:\n",
        "    hint = hint2\n",
        "\n",
        "  if hint is not None:\n",
        "    print(hint)\n",
        "  else:\n",
        "    print(\"Your function is correct!\")\n",
        "\n",
        "try:\n",
        "  check_linear_policy(linear_policy)\n",
        "except Exception as e:\n",
        "    print(\"An Error Occured: {}\".format(e))"
      ]
    },
    {
      "cell_type": "markdown",
      "metadata": {
        "id": "PkuvT-jf6Ieh"
      },
      "source": [
        "### Функция перехода среды - $P$\n",
        "\n",
        "Теперь, когда у нас есть политика, мы можем передавать действия от агента среде. Затем среда перейдет в новое состояние в ответ на действие агента.\n",
        "\n",
        "В RL мы моделируем этот процесс с помощью **функции перехода состояния** $P$, которая принимает текущее состояние $s_t$ и действие $a_t$ в качестве входных данных и возвращает следующее состояние $s_{t+1}$ в качестве выходных данных:\n",
        "\n",
        "<center>\n",
        "$s_{t+1}=P(s_t, a_t)$\n",
        "</center>\n",
        "\n",
        "В gym мы можем передавать действия среде, вызывая функцию `env.step(<action>)`. Затем функция вернет четыре значения:\n",
        "- **следующее наблюдение**\n",
        "- **награду** за выполненное действие\n",
        "- логический флаг, указывающий, **завершена** игра\n",
        "- некоторую **дополнительную** информацию."
      ]
    },
    {
      "cell_type": "code",
      "execution_count": null,
      "metadata": {
        "id": "hh0j9-Tk7olb",
        "colab": {
          "base_uri": "https://localhost:8080/"
        },
        "outputId": "4bcabf9c-585c-439c-e50b-70975e88bcd2"
      },
      "outputs": [
        {
          "output_type": "stream",
          "name": "stdout",
          "text": [
            "Observation: [-0.02175494 -0.0357132  -0.00951034  0.0381395 ]\n",
            "Action: 0\n",
            "Next observation: [-0.0224692  -0.23069748 -0.00874755  0.3278067 ]\n",
            "Reward: 1.0\n",
            "Game is done: False\n"
          ]
        }
      ],
      "source": [
        "# Get the initial obs by resetting the env\n",
        "initial_obs = env.reset()\n",
        "\n",
        "# Randomly sample actions from env\n",
        "action = env.action_space.sample()\n",
        "\n",
        "# Step the environment\n",
        "next_obs, reward, done, info = env.step(action)\n",
        "\n",
        "print(\"Observation:\", initial_obs)\n",
        "print(\"Action:\", action)\n",
        "print(\"Next observation:\", next_obs)\n",
        "print(\"Reward:\", reward)\n",
        "print(\"Game is done:\", done)"
      ]
    },
    {
      "cell_type": "markdown",
      "metadata": {
        "id": "bX9iZtu48UYn"
      },
      "source": [
        "### Возврат эпизода - $R_t$\n",
        "\n",
        "В RL мы обычно разбиваем взаимодействие агента с окружающей средой на **эпизоды**. Сумма всех вознаграждений, собранных во время эпизода, - это то, что мы называем **возвратом** эпизода - $R_t$:\n",
        "\n",
        "<center>\n",
        "$R_t=\\sum_{t=0}^Tr_t$,\n",
        "</center>\n",
        "\n",
        "где $r_t$ - это вознаграждение в момент времени $t$, а $T$ - это последний временной шаг. Цель в RL - выбрать действия, которые максимизируют этот ожидаемый будущий возврат $R_t$."
      ]
    },
    {
      "cell_type": "markdown",
      "metadata": {
        "id": "y6KZA1Nq9p47"
      },
      "source": [
        "### Цикл агент-среда\n",
        "Теперь, когда мы знаем, что такое политика, и знаем, как пошагово проходить среду, давайте закроем цикл агент-среда.\n",
        "\n",
        "**Упражнение 2:** Напишите функцию, которая запускает один эпизод CartPole, последовательно выбирая действия и пошагово проходя среду. Вам следует использовать линейную политику, которую мы определили ранее, для выбора действий. Функция должна отслеживать полученное вознаграждение и выводить возврат в конце эпизода.\n",
        "\n",
        "В CartPole агент получает вознаграждение `1` за каждый временной шаг, когда шест все еще стоит вертикально. Если шест падает, игра заканчивается, и агент больше не получает вознаграждения. Игра также заканчивается после `200` временных шагов, поэтому максимальное вознаграждение, которое может получить агент, составляет `200`."
      ]
    },
    {
      "cell_type": "code",
      "execution_count": null,
      "metadata": {
        "id": "Buy0X7mi-gHP"
      },
      "outputs": [],
      "source": [
        "def run_episode(env):\n",
        "  episode_return = 0  # counter to keep track of rewards\n",
        "  done = False  # initially set to False\n",
        "  params = jnp.array([1, -2, 2, -1])  # fixed policy parameters\n",
        "\n",
        "  ## YOUR CODE\n",
        "\n",
        "  obs = env.reset()  # TODO: get the initial obs from the env\n",
        "\n",
        "  while not done:  # loop until episode is done\n",
        "\n",
        "    action = linear_policy(params, obs)  # TODO: compute action using linear policy\n",
        "    action = np.array(action)  # We need to convert the action from the policy to a np.array\n",
        "\n",
        "    obs, reward, done, info = env.step(action)  # TODO: step the environment\n",
        "\n",
        "    episode_return += reward  # TODO: add reward to episode return\n",
        "\n",
        "  return episode_return"
      ]
    },
    {
      "cell_type": "code",
      "execution_count": null,
      "metadata": {
        "id": "bA2Orj9PVbKO",
        "colab": {
          "base_uri": "https://localhost:8080/"
        },
        "outputId": "dd692580-05b8-4041-b242-e32f22866ba3"
      },
      "outputs": [
        {
          "output_type": "stream",
          "name": "stdout",
          "text": [
            "Looks correct!\n"
          ]
        }
      ],
      "source": [
        "# @title Проверка упр 2 (run me) { display-mode: \"form\" }\n",
        "\n",
        "try:\n",
        "  env.seed(42)\n",
        "  if run_episode(env) == 31:\n",
        "    print(\"Looks correct!\")\n",
        "  else:\n",
        "    print(\"Looks like your implementation might be wrong.\")\n",
        "except Exception as e:\n",
        "    print(\"An Error Occured: {}\".format(e))"
      ]
    },
    {
      "cell_type": "markdown",
      "metadata": {
        "id": "fUGdzHxJnZGl"
      },
      "source": [
        "В CartPole среда считается решенной, когда агент может надежно достичь возврата эпизода 500. Как вы можете видеть, наша текущая политика далека от оптимальной.\n",
        "\n",
        "Один из способов найти оптимальную политику — это случайным образом пробовать разные политики, пока не найдем оптимальную. Эта стратегия называется случайным поиском политики и может быть на удивление эффективной.\n",
        "\n",
        "Прежде чем мы реализуем случайный поиск политики, давайте быстро рассмотрим общий цикл обучения RL, который мы будем использовать для реализации алгоритмов в оставшейся части этого руководства.\n",
        "\n",
        "### Цикл обучения RL общего назначения\n",
        "Мы реализовали для вас цикл обучения RL общего назначения. Цикл обучения принимает несколько аргументов в качестве входных данных, но три наиболее важных для понимания — это `agent_select_action_func`, `agent_learn_func` и `agent_memory`.\n",
        "\n",
        "* `agent_select_action_func` — это функция, которую мы определяем и можем передать в цикл обучения. Функция принимает наблюдение и набор `agent_params` в качестве входных данных и должна возвращать действие.\n",
        "* `agent_learn_func` — это еще один метод, который мы определяем и передаем в цикл обучения. Он должен принимать параметры агента и некоторые «воспоминания» в качестве входных данных, а затем обновлять и возвращать агентам новые параметры.\n",
        "* `agent_memory` — это модуль общего назначения, который мы определяем, который может хранить некоторую релевантную информацию об опыте агента в среде, которую можно использовать в `agent_learn_func`.\n",
        "\n",
        "Ниже приведена функция цикла обучения, которую мы реализовали для вас. Вы можете просмотреть код и попытаться понять его, но это не обязательно. Таким образом, мы скрыли код по умолчанию, просто убедитесь, что вы запустили ячейку кода, прежде чем двигаться дальше, потому что цикл обучения далее в коде."
      ]
    },
    {
      "cell_type": "code",
      "execution_count": null,
      "metadata": {
        "id": "ZWBwz3zMRjM0"
      },
      "outputs": [],
      "source": [
        "#@title Training loop (run me) { display-mode: \"form\" }\n",
        "\n",
        "# NamedTuple to store transitions\n",
        "Transition = collections.namedtuple(\"Transition\", [\"obs\", \"action\", \"reward\", \"next_obs\", \"done\"])\n",
        "\n",
        "# Training Loop\n",
        "def run_training_loop(env_name, agent_params, agent_select_action_func,\n",
        "    agent_actor_state=None, agent_learn_func=None, agent_learner_state=None,\n",
        "    agent_memory=None, num_episodes=1000, evaluator_period=100,\n",
        "    evaluation_episodes=8, learn_steps_per_episode=1,\n",
        "    train_every_timestep=False, video_subdir=\"\",):\n",
        "    \"\"\"\n",
        "    This function runs several episodes in an environment and periodically does\n",
        "    some agent learning and evaluation.\n",
        "\n",
        "    Args:\n",
        "        env: a gym environment.\n",
        "        agent_params: an object to store parameters that the agent uses.\n",
        "        agent_select_func: a function that does action selection for the agent.\n",
        "        agent_actor_state (optional): an object that stores the internal state\n",
        "            of the agents action selection function.\n",
        "        agent_learn_func (optional): a function that does some learning for the\n",
        "            agent by updating the agent parameters.\n",
        "        agent_learn_state (optional): an object that stores the internal state\n",
        "            of the agent learn function.\n",
        "        agent_memory (optional): an object for storing an retrieving historical\n",
        "            experience.\n",
        "        num_episodes: how many episodes to run.\n",
        "        evaluator_period: how often to run evaluation.\n",
        "        evaluation_episodes: how many evaluation episodes to run.\n",
        "        train_every_timestep: whether to train every timestep rather than at the end\n",
        "            of the episode.\n",
        "        video_subdir: subdirectory to store epsiode recordings.\n",
        "\n",
        "    Returns:\n",
        "        episode_returns: list of all the episode returns.\n",
        "        evaluator_episode_returns: list of all the evaluator episode returns.\n",
        "    \"\"\"\n",
        "\n",
        "    # Setup Cartpole environment and recorder\n",
        "    env = gym.make(env_name, render_mode=\"rgb_array\") # training environment\n",
        "    eval_env = gym.make(env_name, render_mode=\"rgb_array\") # evaluation environment\n",
        "\n",
        "    # Video dir\n",
        "    video_dir = \"./video\"+\"/\"+video_subdir\n",
        "\n",
        "    # Clear video dir\n",
        "    try:\n",
        "      rmtree(video_dir)\n",
        "    except:\n",
        "      pass\n",
        "\n",
        "    # Wrap in recorder\n",
        "    env = RecordVideo(env, video_dir+\"/train\", episode_trigger=lambda x: (x % evaluator_period) == 0)\n",
        "    eval_env = RecordVideo(eval_env, video_dir+\"/eval\", episode_trigger=lambda x: (x % evaluation_episodes) == 0)\n",
        "\n",
        "    # JAX random number generator\n",
        "    rng = hk.PRNGSequence(jax.random.PRNGKey(0))\n",
        "    env.seed(0) # seed environment for reproducability\n",
        "    random.seed(0)\n",
        "\n",
        "    episode_returns = [] # List to store history of episode returns.\n",
        "    evaluator_episode_returns = [] # List to store history of evaluator returns.\n",
        "    timesteps = 0\n",
        "    for episode in range(num_episodes):\n",
        "\n",
        "        # Reset environment.\n",
        "        obs = env.reset()\n",
        "        episode_return = 0\n",
        "        done = False\n",
        "\n",
        "        while not done:\n",
        "\n",
        "            # Agent select action.\n",
        "            action, agent_actor_state = agent_select_action_func(\n",
        "                                            next(rng),\n",
        "                                            agent_params,\n",
        "                                            agent_actor_state,\n",
        "                                            np.array(obs)\n",
        "                                        )\n",
        "\n",
        "            # Step environment.\n",
        "            next_obs, reward, done, _ = env.step(int(action))\n",
        "\n",
        "            # Pack into transition.\n",
        "            transition = Transition(obs, action, reward, next_obs, done)\n",
        "\n",
        "            # Add transition to memory.\n",
        "            if agent_memory: # check if agent has memory\n",
        "              agent_memory.push(transition)\n",
        "\n",
        "            # Add reward to episode return.\n",
        "            episode_return += reward\n",
        "\n",
        "            # Set obs to next obs before next environment step. CRITICAL!!!\n",
        "            obs = next_obs\n",
        "\n",
        "            # Increment timestep counter\n",
        "            timesteps += 1\n",
        "\n",
        "            # Maybe learn every timestep\n",
        "            if train_every_timestep and (timesteps % 4 == 0) and agent_memory and agent_memory.is_ready(): # Make sure memory is ready\n",
        "                # First sample memory and then pass the result to the learn function\n",
        "                memory = agent_memory.sample()\n",
        "                agent_params, agent_learner_state = agent_learn_func(\n",
        "                                                        next(rng),\n",
        "                                                        agent_params,\n",
        "                                                        agent_learner_state,\n",
        "                                                        memory\n",
        "                                                    )\n",
        "\n",
        "        episode_returns.append(episode_return)\n",
        "\n",
        "        # At the end of every episode we do a learn step.\n",
        "        if agent_memory and agent_memory.is_ready(): # Make sure memory is ready\n",
        "\n",
        "            for _ in range(learn_steps_per_episode):\n",
        "                # First sample memory and then pass the result to the learn function\n",
        "                memory = agent_memory.sample()\n",
        "                agent_params, agent_learner_state = agent_learn_func(\n",
        "                                                        next(rng),\n",
        "                                                        agent_params,\n",
        "                                                        agent_learner_state,\n",
        "                                                        memory\n",
        "                                                    )\n",
        "\n",
        "        if (episode % evaluator_period) == 0: # Do evaluation\n",
        "\n",
        "            evaluator_episode_return = 0\n",
        "            for eval_episode in range(evaluation_episodes):\n",
        "                obs = eval_env.reset()\n",
        "                done = False\n",
        "                while not done:\n",
        "                    action, _ = agent_select_action_func(\n",
        "                                    next(rng),\n",
        "                                    agent_params,\n",
        "                                    agent_actor_state,\n",
        "                                    np.array(obs),\n",
        "                                    evaluation=True\n",
        "                                )\n",
        "\n",
        "                    obs, reward, done, _ = eval_env.step(int(action))\n",
        "\n",
        "                    evaluator_episode_return += reward\n",
        "\n",
        "            evaluator_episode_return /= evaluation_episodes\n",
        "\n",
        "            evaluator_episode_returns.append(evaluator_episode_return)\n",
        "\n",
        "            logs = [\n",
        "                    f\"Episode: {episode}\",\n",
        "                    f\"Episode Return: {episode_return}\",\n",
        "                    f\"Average Episode Return: {np.mean(episode_returns[-20:])}\",\n",
        "                    f\"Evaluator Episode Return: {evaluator_episode_return}\"\n",
        "            ]\n",
        "\n",
        "            print(*logs, sep=\"\\t\") # Print the logs\n",
        "\n",
        "    env.close()\n",
        "    eval_env.close()\n",
        "\n",
        "    return episode_returns, evaluator_episode_returns"
      ]
    },
    {
      "cell_type": "markdown",
      "metadata": {
        "id": "CTPlIq4oDBPY"
      },
      "source": [
        "##2. Случайный поиск политики (RPS)\n",
        "В разделе 1 мы использовали фиксированный набор параметров для нашей политики. То есть мы не изучали параметры $\\pi$ $\\theta$, мы просто сохранили их фиксированными ( `params = [1,-2,2,-1]`).\n",
        "\n",
        "Теперь мы реализуем случайный поиск политики (RPS), который представляет собой алгоритм, который случайным образом пробует различные параметры политики и отслеживает лучшие параметры, найденные на данный момент. Мы скажем, что параметры политики $\\theta_A$ лучше параметров $\\theta_B$, если средний возврат эпизода, достигнутый за последние 20 эпизодов политикой с параметрами $\\theta_A$, больше, чем у политики с параметрами $\\theta_B$.\n",
        "\n",
        "Чтобы отслеживать «текущие» параметры, а также «лучшие» параметры, мы будем использовать [NamedTuple](https://www.geeksforgeeks.org/namedtuple-in-python/)."
      ]
    },
    {
      "cell_type": "code",
      "execution_count": null,
      "metadata": {
        "id": "1DcaC-PQRjM1",
        "colab": {
          "base_uri": "https://localhost:8080/"
        },
        "outputId": "c9cf2fcb-ce80-48e3-9409-4771b94b2d48"
      },
      "outputs": [
        {
          "output_type": "stream",
          "name": "stdout",
          "text": [
            "Best params: [0. 0. 0. 0.]\n",
            "Current params: [-1. -1. -1. -1.]\n"
          ]
        }
      ],
      "source": [
        "# Parameter container for Random Policy Search\n",
        "RandomPolicySearchParams = collections.namedtuple(\"RandomPolicySearchParams\", [\"current\", \"best\"])\n",
        "\n",
        "# TEST: store two different sets of parameters\n",
        "current_params = np.ones(obs_shape) * -1\n",
        "best_params = np.zeros(obs_shape)\n",
        "rps_params = RandomPolicySearchParams(current_params, best_params)\n",
        "\n",
        "# How to access the best or current params.\n",
        "print(f\"Best params: {rps_params.best}\")\n",
        "print(f\"Current params: {rps_params.current}\")"
      ]
    },
    {
      "cell_type": "markdown",
      "metadata": {
        "id": "v91pDDzGex9a"
      },
      "source": [
        "Далее мы реализуем следующее:\n",
        "- **Функция выбора действия RPS** - определяет, как мы выбираем действия с учетом набора параметров.\n",
        "- **Модуль памяти RPS** - определяет, какой опыт хранить из взаимодействий со средой.\n",
        "- **Функция обучения RPS** - определяет, как мы обновляем и улучшаем параметры нашей политики."
      ]
    },
    {
      "cell_type": "markdown",
      "metadata": {
        "id": "0tExceGeGNYH"
      },
      "source": [
        "### Функция выбора действия RPS\n",
        "Давайте реализуем функцию с именем `random_policy_search_choose_action`, которую мы можем передать в цикл обучения. Функция должна принимать несколько аргументов, чтобы она могла хорошо взаимодействовать с нашим обобщенным циклом обучения, но вам нужно будет использовать только три из них - `params`, `obs` и `evaluation`.\n",
        "\n",
        "- `params` - это экземпляр `RandomPolicySearchParams` с \"current\" и \"best\".\n",
        "- `obs` - это последнее наблюдение из среды.\n",
        "- `evaluation` - это логическое значение, которое указывает, следует ли нам использовать параметры \"current\" или \"best\". Когда `evaluation==True`, мы должны использовать параметры \"best\", в противном случае мы должны использовать параметры \"current\".\n",
        "\n",
        "**Упражнение 3:** Реализуйте функцию `random_policy_search_choose_action`, как описано выше. Вам следует использовать метод `linear_policy`, который мы определили ранее. Вам также понадобится `jax.lax.select()` для условного возврата \"лучшего\" действия или \"текущего\" действия."
      ]
    },
    {
      "cell_type": "code",
      "execution_count": null,
      "metadata": {
        "id": "1kmwT35JRjM1"
      },
      "outputs": [],
      "source": [
        "def random_policy_search_choose_action(\n",
        "    key,\n",
        "    params,\n",
        "    actor_state,\n",
        "    obs,\n",
        "    evaluation=False\n",
        "):\n",
        "  \"\"\"Random policy search select action method.\n",
        "\n",
        "  Args:\n",
        "    key: a random number (seed). Not used in this function.\n",
        "    params: the agent's parameters. In this case an instance of `RandomPolicySearchParams`\n",
        "    actor_state: some extra information about the actor. Not used in this function.\n",
        "    obs: the latest observation.\n",
        "    evaluation: a boolean indicating whether to use the best \"parameters\" or the \"current\" ones.\n",
        "\n",
        "  Returns:\n",
        "    The chosen action and the updated actor_state. In this function the actor_state is not updated.\n",
        "  \"\"\"\n",
        "\n",
        "  # YOUR CODE\n",
        "\n",
        "  best_action = linear_policy(params.best, obs)  # Compute action using the best parameters\n",
        "\n",
        "  current_action = linear_policy(params.current, obs)  # Compute action using the current parameters\n",
        "\n",
        "  action = jax.lax.select(\n",
        "      evaluation,  # Condition: if evaluation is True\n",
        "      best_action,  # Return the best action if evaluation is True\n",
        "      current_action  # Return the current action if evaluation is False\n",
        "  )\n",
        "\n",
        "  # END YOUR CODE\n",
        "\n",
        "  return action, actor_state"
      ]
    },
    {
      "cell_type": "code",
      "execution_count": null,
      "metadata": {
        "id": "YE4xoAgyI3kG",
        "colab": {
          "base_uri": "https://localhost:8080/"
        },
        "outputId": "e888ca1b-f1cf-4729-bb13-2ff6169c672e"
      },
      "outputs": [
        {
          "output_type": "stream",
          "name": "stdout",
          "text": [
            "Your function looks correct.\n"
          ]
        }
      ],
      "source": [
        "# @title Проверка упр 3 (run me) {display-mode: \"form\"}\n",
        "\n",
        "def check_random_policy_search_choose_action(choose_action):\n",
        "  key = None # not used\n",
        "  actor_state = None # not used\n",
        "\n",
        "  # obs\n",
        "  obs = np.ones(obs_shape)\n",
        "\n",
        "  evaluation=False\n",
        "  current_params = np.ones(obs_shape) * -1\n",
        "  best_params = np.ones(obs_shape)\n",
        "  rps_params = RandomPolicySearchParams(current_params, best_params)\n",
        "  action, actor_state = choose_action(key,rps_params,actor_state,obs,evaluation)\n",
        "  if action != 0:\n",
        "    return False\n",
        "\n",
        "  evaluation=True\n",
        "  current_params = np.ones(obs_shape) * -1\n",
        "  best_params = np.ones(obs_shape)\n",
        "  rps_params = RandomPolicySearchParams(current_params, best_params)\n",
        "  action, actor_state = choose_action(key,rps_params,actor_state,obs,evaluation)\n",
        "  if action != 1:\n",
        "    return False\n",
        "\n",
        "  return True\n",
        "\n",
        "try:\n",
        "  if check_random_policy_search_choose_action(random_policy_search_choose_action):\n",
        "    print(\"Your function looks correct.\")\n",
        "  else:\n",
        "    print(\"Your function looks incorrect.\")\n",
        "except Exception as e:\n",
        "    print(\"An Error Occured: {}\".format(e))"
      ]
    },
    {
      "cell_type": "markdown",
      "metadata": {
        "id": "6zu51ep7Sh0M"
      },
      "source": [
        "### Память агента RPS\n",
        "\n",
        "Для алгоритма поиска случайной политики нам нужно будет отслеживать средний возврат эпизода для последних 50 эпизодов. Помните, что мы сказали, что «текущие» параметры будут считаться «лучшими» параметрами, если средний возврат эпизода при использовании этих параметров больше предыдущего лучшего среднего возврата эпизода.\n",
        "\n",
        "Мы будем использовать интерфейс памяти общего назначения, который довольно прост. Модуль памяти должен иметь три метода. Первый — это функция `memory.push(<transition>)`, которая добавляет некоторую информацию о последнем переходе среды в память. Второй — это функция `memory.is_ready()`, которая проверяет, готова ли память к обучению. Наконец, функция `memory.sample()` должна возвращать последний набор воспоминаний, которые можно передать в `agent_learn_func`.\n",
        "\n",
        "#### Память среднего возврата эпизода\n",
        "Мы создали для вас простой модуль памяти агента. Он хранит `epsisode_returns` последних 20 эпизодов. Прочитайте нашу реализацию ниже и посмотрите, сможете ли вы ее понять. Метод `memory.sample()` возвращает средний возврат эпизода за последние 20 эпизодов."
      ]
    },
    {
      "cell_type": "code",
      "execution_count": null,
      "metadata": {
        "id": "YVkTBIK5RjM1"
      },
      "outputs": [],
      "source": [
        "class AverageEpisodeReturnBuffer:\n",
        "\n",
        "    def __init__(self, num_episodes_to_store=50):\n",
        "        \"\"\"\n",
        "        This class implements an agent memory that stores the average episode\n",
        "        return over the last 50 episodes.\n",
        "        \"\"\"\n",
        "        self.num_episodes_to_store = num_episodes_to_store\n",
        "        self.episode_return_buffer = []\n",
        "        self.current_episode_return = 0\n",
        "\n",
        "    def push(self, transition):\n",
        "        self.current_episode_return += transition.reward\n",
        "\n",
        "        if transition.done: # If the episode is done\n",
        "            # Add episode return to buffer\n",
        "            self.episode_return_buffer.append(self.current_episode_return)\n",
        "\n",
        "            # Reset episode return\n",
        "            self.current_episode_return = 0\n",
        "\n",
        "\n",
        "    def is_ready(self):\n",
        "        return len(self.episode_return_buffer) == self.num_episodes_to_store\n",
        "\n",
        "    def sample(self):\n",
        "        average_episode_return = np.mean(self.episode_return_buffer)\n",
        "\n",
        "        # Clear episode return buffer\n",
        "        self.episode_return_buffer = []\n",
        "\n",
        "        return average_episode_return"
      ]
    },
    {
      "cell_type": "markdown",
      "metadata": {
        "id": "0oXBsSa2KjWE"
      },
      "source": [
        "### Функция обучения RPS\n",
        "Наконец, нам нужно реализовать функцию `random_policy_search_learn` для нашего алгоритма поиска случайной политики. Функция обучения довольно проста. Все, что нам нужно сделать, это проверить, лучше ли текущие параметры, чем лучшие параметры. Если они лучше, то установите лучшие параметры в качестве текущих параметров и случайным образом сгенерируйте новый набор текущих параметров.\n",
        "\n",
        "**Упражнение 4:** Напишите функцию для случайной генерации новых весов с использованием JAX. Веса должны быть выбраны из интервала `[-2,2]`.\n",
        "\n",
        "**Полезные функции:**\n",
        "*   `jax.random.uniform` ([docs](https://jax.readthedocs.io/en/latest/_autosummary/jax.random.uniform.html#jax.random.uniform))\n",
        "\n"
      ]
    },
    {
      "cell_type": "code",
      "execution_count": null,
      "metadata": {
        "id": "8V2yFM2XMjGW"
      },
      "outputs": [],
      "source": [
        "def get_new_random_weights(random_key, old_weights, minval=-2.0, maxval=2.0):\n",
        "    \"\"\"Generate new random weights within the range [minval, maxval].\n",
        "\n",
        "    Args:\n",
        "        random_key: A JAX random key for generating random numbers.\n",
        "        old_weights: The old weights to determine the shape and dtype.\n",
        "        minval: The minimum value for the random weights.\n",
        "        maxval: The maximum value for the random weights.\n",
        "\n",
        "    Returns:\n",
        "        new_params: A new set of random weights with the same shape and dtype as old_weights.\n",
        "    \"\"\"\n",
        "    new_weights_shape = old_weights.shape  # Shape of the old weights\n",
        "    new_weights_dtype = old_weights.dtype  # Dtype of the old weights\n",
        "\n",
        "    # YOUR CODE\n",
        "\n",
        "    # Generate random weights using jax.random.uniform\n",
        "    new_params = jax.random.uniform(\n",
        "        key=random_key,\n",
        "        shape=new_weights_shape,\n",
        "        dtype=new_weights_dtype,\n",
        "        minval=minval,\n",
        "        maxval=maxval\n",
        "    )\n",
        "\n",
        "    # END YOUR CODE\n",
        "\n",
        "    return new_params"
      ]
    },
    {
      "cell_type": "code",
      "execution_count": null,
      "metadata": {
        "id": "T8ifHTKGQlAd",
        "colab": {
          "base_uri": "https://localhost:8080/"
        },
        "outputId": "eac9385d-6749-49d5-da5c-48ac1f94469b"
      },
      "outputs": [
        {
          "output_type": "stream",
          "name": "stdout",
          "text": [
            "Function is correct!\n"
          ]
        }
      ],
      "source": [
        "# @title Проверка упр 4 (run me) {display-mode: \"form\"}\n",
        "\n",
        "def check_get_new_random_weights(get_new_random_weights):\n",
        "  old_weights = np.ones(obs_shape, \"float32\")\n",
        "  random_key = jax.random.PRNGKey(42)\n",
        "\n",
        "  # Case 1\n",
        "  new_weights = get_new_random_weights(random_key, old_weights, minval=-2.0, maxval=2.0)\n",
        "\n",
        "  if jnp.array_equal(new_weights, jnp.array([ 0.29657745,1.4265499, -1.7621555, -1.7505779 ])):\n",
        "    print(\"Function is correct!\")\n",
        "  else:\n",
        "    print(\"Something is wrong.\")\n",
        "\n",
        "try:\n",
        "  check_get_new_random_weights(get_new_random_weights)\n",
        "except Exception as e:\n",
        "    print(\"An Error Occured: {}\".format(e))"
      ]
    },
    {
      "cell_type": "markdown",
      "metadata": {
        "id": "2Djxc9j-LzkM"
      },
      "source": [
        "Наша функция обучения получает память в форме среднего возврата эпизода из `AverageEpisodeReturnMemory`, которую мы реализовали ранее. Мы можем использовать это для сравнения текущих параметров с лучшими параметрами. Но нам также нужно будет отслеживать лучший средний возврат эпизода для функции обучения. Для этого мы можем использовать аргумент `learn_state`, который передается в `agent_learn_func` в нашем цикле обучения. Как и в случае с `RandomPolicySearchParams`, мы будем использовать NamedTuple для хранения `best_average_episode_return` в `learn_state`."
      ]
    },
    {
      "cell_type": "code",
      "execution_count": null,
      "metadata": {
        "id": "4cSH4uYmRjM2",
        "colab": {
          "base_uri": "https://localhost:8080/"
        },
        "outputId": "81358ab1-aefd-4d13-d0c8-4ffcafc5f8e1"
      },
      "outputs": [
        {
          "output_type": "stream",
          "name": "stdout",
          "text": [
            "Initial best average episode return: -inf\n"
          ]
        }
      ],
      "source": [
        "# A NamedTuple to store the best average episode return so far\n",
        "RandomPolicyLearnState = collections.namedtuple(\n",
        "  \"RandomPolicyLearnState\",\n",
        "  [\"best_average_episode_return\"]\n",
        ")\n",
        "\n",
        "# Test\n",
        "initial_learn_state = RandomPolicyLearnState(best_average_episode_return=-float(\"inf\"))\n",
        "print(\"Initial best average episode return:\", initial_learn_state.best_average_episode_return)"
      ]
    },
    {
      "cell_type": "markdown",
      "metadata": {
        "id": "PxZXdP8bOu6b"
      },
      "source": [
        "Теперь у нас есть все необходимое для реализации функции `random_policy_search_learn`.\n",
        "\n",
        "**Упражнение 5:** Реализуйте функцию `random_policy_search_learn`. Функция должна проверять, лучше ли «текущие» параметры, чем «лучшие» параметры, сравнивая `current_average_episode_return` с `best_average_episode_return`. Функция также должна обновлять `learn_state`."
      ]
    },
    {
      "cell_type": "code",
      "execution_count": null,
      "metadata": {
        "id": "Te_Q3qzmZcN_"
      },
      "outputs": [],
      "source": [
        "import jax\n",
        "import jax.numpy as jnp\n",
        "import collections\n",
        "\n",
        "# A NamedTuple to store the best average episode return so far\n",
        "RandomPolicyLearnState = collections.namedtuple(\n",
        "  \"RandomPolicyLearnState\",\n",
        "  [\"best_average_episode_return\"]\n",
        ")\n",
        "\n",
        "def random_policy_search_learn(key, params, learn_state, memory):\n",
        "    best_params = params.best\n",
        "    current_params = params.current\n",
        "\n",
        "    current_average_episode_return = memory  # the memory contains the average episode return\n",
        "    best_average_episode_return = learn_state.best_average_episode_return\n",
        "\n",
        "    # YOUR CODE\n",
        "\n",
        "    # Update best_params if current_average_episode_return is better\n",
        "    best_params = jax.lax.select(\n",
        "        current_average_episode_return > best_average_episode_return,  # Condition\n",
        "        current_params,  # If True, set best_params to current_params\n",
        "        best_params  # Otherwise, keep the old best_params\n",
        "    )\n",
        "\n",
        "    # Update best_average_episode_return if current_average_episode_return is better\n",
        "    best_average_episode_return = jax.lax.select(\n",
        "        current_average_episode_return > best_average_episode_return,  # Condition\n",
        "        current_average_episode_return,  # If True, set to current_average_episode_return\n",
        "        best_average_episode_return  # Otherwise, keep the old best_average_episode_return\n",
        "    )\n",
        "\n",
        "    # END YOUR CODE\n",
        "\n",
        "    # Generate new random parameters\n",
        "    new_params = get_new_random_weights(key, current_params)\n",
        "\n",
        "    # Bundle weights in RandomPolicySearchParams NamedTuple\n",
        "    params = RandomPolicySearchParams(current=new_params, best=best_params)\n",
        "\n",
        "    return params, RandomPolicyLearnState(best_average_episode_return)"
      ]
    },
    {
      "cell_type": "code",
      "execution_count": null,
      "metadata": {
        "id": "CXHV4k2iBLBF",
        "colab": {
          "base_uri": "https://localhost:8080/"
        },
        "outputId": "73988f1a-0e41-479c-a69c-8957749f534e"
      },
      "outputs": [
        {
          "output_type": "stream",
          "name": "stdout",
          "text": [
            "Your function looks correct.\n"
          ]
        }
      ],
      "source": [
        "#@title Проверка упр 5 {display-mode: \"form\"}\n",
        "\n",
        "params = RandomPolicySearchParams(np.ones(obs_shape, \"float32\"), np.ones(obs_shape, \"float32\") * -1)\n",
        "learn_state = RandomPolicyLearnState(10)\n",
        "memory = 11\n",
        "key = jax.random.PRNGKey(42)\n",
        "\n",
        "try:\n",
        "  new_params, new_learn_state = random_policy_search_learn(key, params, learn_state, memory)\n",
        "\n",
        "  if not jnp.array_equal(new_params.current, jnp.array([ 0.29657745,  1.4265499 , -1.7621555 , -1.7505779 ])):\n",
        "    print(\"Your function is incorrect.\")\n",
        "\n",
        "  elif not jnp.array_equal(new_params.best, jnp.array([1., 1., 1., 1.])):\n",
        "    print(\"Your function is incorrect.\")\n",
        "\n",
        "  elif new_learn_state.best_average_episode_return != 11:\n",
        "    print(\"Your function is incorrect.\")\n",
        "\n",
        "  else:\n",
        "    print(\"Your function looks correct.\")\n",
        "except Exception as e:\n",
        "    print(\"An Error Occured: {}\".format(e))"
      ]
    },
    {
      "cell_type": "markdown",
      "metadata": {
        "id": "5Ol_AxnMBdgP"
      },
      "source": [
        "### Цикл обучения RPS\n",
        "Теперь мы можем собрать все вместе, передав модуль `memory`, функцию `learn` и функцию `choose_action` в цикл обучения. Чтобы ускорить наш алгоритм, мы будем использовать `jax.jit` в функции `learn` и функции `choose_action`."
      ]
    },
    {
      "cell_type": "code",
      "execution_count": null,
      "metadata": {
        "id": "Qx57tf7vRjM3",
        "colab": {
          "base_uri": "https://localhost:8080/",
          "height": 686
        },
        "outputId": "78aa9fd4-21a0-49b3-af70-3ed84e9b9ba3"
      },
      "outputs": [
        {
          "output_type": "stream",
          "name": "stdout",
          "text": [
            "Starting training. This may take up to 5 minutes to complete.\n",
            "Episode: 0\tEpisode Return: 80.0\tAverage Episode Return: 80.0\tEvaluator Episode Return: 140.5\n",
            "Episode: 100\tEpisode Return: 8.0\tAverage Episode Return: 9.35\tEvaluator Episode Return: 124.375\n",
            "Episode: 200\tEpisode Return: 10.0\tAverage Episode Return: 131.2\tEvaluator Episode Return: 126.625\n",
            "Episode: 300\tEpisode Return: 10.0\tAverage Episode Return: 111.75\tEvaluator Episode Return: 137.0\n",
            "Episode: 400\tEpisode Return: 9.0\tAverage Episode Return: 9.45\tEvaluator Episode Return: 126.625\n",
            "Episode: 500\tEpisode Return: 10.0\tAverage Episode Return: 9.5\tEvaluator Episode Return: 130.25\n",
            "Episode: 600\tEpisode Return: 35.0\tAverage Episode Return: 10.55\tEvaluator Episode Return: 148.875\n",
            "Episode: 700\tEpisode Return: 9.0\tAverage Episode Return: 9.75\tEvaluator Episode Return: 126.625\n",
            "Episode: 800\tEpisode Return: 10.0\tAverage Episode Return: 53.15\tEvaluator Episode Return: 130.25\n",
            "Episode: 900\tEpisode Return: 200.0\tAverage Episode Return: 18.85\tEvaluator Episode Return: 131.5\n",
            "Episode: 1000\tEpisode Return: 66.0\tAverage Episode Return: 91.6\tEvaluator Episode Return: 200.0\n"
          ]
        },
        {
          "output_type": "display_data",
          "data": {
            "text/plain": [
              "<Figure size 640x480 with 1 Axes>"
            ],
            "image/png": "[encoded data removed]"
          },
          "metadata": {}
        }
      ],
      "source": [
        "# JIT the learn and choose action functions\n",
        "random_policy_search_learn_jit = jax.jit(random_policy_search_learn)\n",
        "random_policy_search_choose_action_jit = jax.jit(random_policy_search_choose_action)\n",
        "\n",
        "# Initialise the parameters\n",
        "initial_weights = np.ones(obs_shape, \"float32\")\n",
        "initial_params = RandomPolicySearchParams(initial_weights, initial_weights)\n",
        "\n",
        "# Initialise the learn state\n",
        "initial_learn_state = RandomPolicyLearnState(best_average_episode_return=-float(\"inf\"))\n",
        "\n",
        "# Initialise memory\n",
        "memory = AverageEpisodeReturnBuffer(num_episodes_to_store=50)\n",
        "\n",
        "# Run the training loop\n",
        "print(\"Starting training. This may take up to 5 minutes to complete.\")\n",
        "chex.clear_trace_counter()\n",
        "episode_return, evaluator_episode_returns = run_training_loop(\n",
        "                                        env_name,\n",
        "                                        initial_params,\n",
        "                                        random_policy_search_choose_action_jit,\n",
        "                                        None, # no actor state\n",
        "                                        random_policy_search_learn_jit,\n",
        "                                        initial_learn_state,\n",
        "                                        memory,\n",
        "                                        num_episodes=1001,\n",
        "                                        video_subdir=\"rps\"\n",
        "                                    )\n",
        "\n",
        "# Plot graph of evaluator episode returns\n",
        "plt.plot(np.linspace(0, 1000, len(evaluator_episode_returns)), evaluator_episode_returns)\n",
        "plt.title(\"Random Policy Search\")\n",
        "plt.xlabel(\"Episodes\")\n",
        "plt.ylabel(\"Episode Return\")\n",
        "plt.show()"
      ]
    },
    {
      "cell_type": "markdown",
      "metadata": {
        "id": "TG10FG6uS05A"
      },
      "source": [
        "Надеюсь, вы нашли набор оптимальных параметров на CartPole (возврат эпизода достигает `200`). В ячейке ниже вы можете посмотреть несколько видеороликов агента, выполняющего задание."
      ]
    },
    {
      "cell_type": "code",
      "execution_count": null,
      "metadata": {
        "id": "KgayDJ7KWC4C",
        "colab": {
          "base_uri": "https://localhost:8080/",
          "height": 288
        },
        "outputId": "80143a39-983e-4b19-f2db-6216187065ed"
      },
      "outputs": [
        {
          "output_type": "execute_result",
          "data": {
            "text/plain": [
              "<IPython.core.display.HTML object>"
            ],
            "text/html": [
              "\n",
              "<video width=400 controls>\n",
              "      <source src=\"data:video/mp4;base64,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\" type=\"video/mp4\">\n",
              "</video>\n"
            ]
          },
          "metadata": {},
          "execution_count": 40
        }
      ],
      "source": [
        "#@title Visualise Policy {display-mode: \"form\"}\n",
        "#@markdown Choose an episode number that is a multiple of 100 and less than or equal to 2000, and **run** this cell.\n",
        "episode_number = 1000 #@param {type:\"number\"}\n",
        "\n",
        "assert (episode_number % 100) == 0, \"Episode number must be a multiple of 100 since we only record every 100th episode.\"\n",
        "assert episode_number < 1001, \"Episode number must be less than or equal to 2000\"\n",
        "\n",
        "eval_episode_number = int(episode_number / 100 * 8)\n",
        "video_path = f\"./video/rps/eval/rl-video-episode-{eval_episode_number}.mp4\"\n",
        "\n",
        "mp4 = open(video_path,'rb').read()\n",
        "data_url = \"data:video/mp4;base64,\" + b64encode(mp4).decode()\n",
        "HTML(\"\"\"\n",
        "<video width=400 controls>\n",
        "      <source src=\"%s\" type=\"video/mp4\">\n",
        "</video>\n",
        "\"\"\" % data_url)"
      ]
    },
    {
      "cell_type": "markdown",
      "metadata": {
        "id": "Xwf1IKKbrrVn"
      },
      "source": [
        "Итак, случайный поиск политики справился с этой задачей довольно хорошо. Однако здесь происходит очень мало (если вообще происходит) реального *обучения*. Далее давайте рассмотрим реализацию простого алгоритма RL, который может использовать свой опыт для руководства нашим поиском оптимальной политики, а не просто искать ее случайным образом."
      ]
    },
    {
      "cell_type": "markdown",
      "metadata": {
        "id": "XEnSjZVESrxc"
      },
      "source": [
        "## 3. Градиенты политики  (Policy Gradients, PG)\n",
        "Как обсуждалось, цель RL — найти политику, которая максимизирует ожидаемое совокупное вознаграждение (возврат), которое агент получает от среды. Мы можем записать ожидаемый возврат политики как:\n",
        "\n",
        "$J(\\pi_\\theta)=\\mathrm{E}_{\\tau\\sim\\pi_\\theta}\\ [R(\\tau)]$,\n",
        "\n",
        "где $\\pi_\\theta$ — это политика, параметризованная $\\theta$, $\\mathrm{E}$ означает *ожидание*, $\\tau$ — это сокращение для \"*эпизод*\", $\\tau\\sim\\pi_\\theta$ — это сокращение для \"*эпизоды, выбранные с использованием политики* $\\pi_\\theta$\", а $R(\\tau)$ — это возврат эпизода $\\tau$.\n",
        "\n",
        "Затем, цель в RL — найти параметры $\\theta$, которые максимизируют функцию $J(\\pi_\\theta)$. Один из способов найти эти параметры — выполнить градиентный подъем по $J(\\pi_\\theta)$ относительно параметров $\\theta$:\n",
        "\n",
        "$\\theta_{k+1}=\\theta_k + \\alpha \\nabla J(\\pi_\\theta)|_{\\theta_{k}}$,\n",
        "\n",
        "где $\\nabla J(\\pi_\\theta)|_{\\theta_{k}}$ — градиент ожидаемой доходности относительно параметров политики $\\theta_k$, а $\\alpha$ — размер шага. Эта величина, $\\nabla J(\\pi_\\theta)$, также называется **градиентом политики** и очень важна в RL. Если мы сможем вычислить градиент политики, то у нас будет средство, с помощью которого можно напрямую оптимизировать нашу политику.\n",
        "\n",
        "Как оказалось, у нас есть способ вычислить градиент политики, и математический вывод можно найти [здесь](https://spinningup.openai.com/en/latest/spinningup/rl_intro3.html). Но для этого руководства мы опустим вывод и просто дадим вам результат:\n",
        "\n",
        "$\\nabla_{\\theta} J(\\pi_{\\theta})=\\underset{\\tau \\sim \\pi_{\\theta}}{\\mathrm{E}}[\\sum_{t=0}^{T} \\nabla_{\\theta} \\log \\pi_{\\theta}(a_{t} \\mid s_{t}) R(\\tau)]$\n",
        "\n",
        "Неформально, градиент политики равен градиенту логарифма вероятности выбранного действия, умноженного на возврат эпизода, в котором было предпринято действие.\n"
      ]
    },
    {
      "cell_type": "markdown",
      "metadata": {
        "id": "BTnTzgtSuy-y"
      },
      "source": [
        "### REINFORCE\n",
        "REINFORCE — это простой алгоритм RL, который использует градиент политики для поиска оптимальной политики путем увеличения вероятности выбора действий (усиливающих действий), которые, как правило, приводят к эпизодам с высокой отдачей.\n",
        "\n",
        "**Упражнение 6:** Реализуйте функцию, которая берет вероятность действия и отдачу эпизода, в котором действие было предпринято, и вычисляет логарифм вероятности, умноженный на отдачу. Убедитесь, что вы используете JAX.\n",
        "\n",
        "**Полезные функции:**\n",
        "*   `jax.numpy.log`([docs](https://jax.readthedocs.io/en/latest/_autosummary/jax.numpy.log.html))"
      ]
    },
    {
      "cell_type": "code",
      "execution_count": null,
      "metadata": {
        "id": "bJObUsoUrOyV"
      },
      "outputs": [],
      "source": [
        "def compute_weighted_log_prob(action_prob, episode_return):\n",
        "    \"\"\"Compute the weighted log probability of an action.\n",
        "\n",
        "    Args:\n",
        "        action_prob: The probability of the action taken.\n",
        "        episode_return: The return of the episode in which the action was taken.\n",
        "\n",
        "    Returns:\n",
        "        weighted_log_prob: The log probability of the action weighted by the episode return.\n",
        "    \"\"\"\n",
        "    # YOUR CODE\n",
        "\n",
        "    log_prob = jnp.log(action_prob)  # Compute the log probability of the action\n",
        "    weighted_log_prob = log_prob * episode_return  # Weight the log probability by the episode return\n",
        "\n",
        "    # END YOUR CODE\n",
        "\n",
        "    return weighted_log_prob"
      ]
    },
    {
      "cell_type": "code",
      "execution_count": null,
      "metadata": {
        "id": "eZPoTwa1Gbm1",
        "colab": {
          "base_uri": "https://localhost:8080/"
        },
        "outputId": "52072e0b-fcf2-4753-ada6-a0b1d6d23a6e"
      },
      "outputs": [
        {
          "output_type": "stream",
          "name": "stdout",
          "text": [
            "Looks correct.\n"
          ]
        }
      ],
      "source": [
        "#@title Проверка упр 6 {display-mode: \"form\"}\n",
        "\n",
        "try:\n",
        "  action_prob = 0.8\n",
        "  episode_return = 100\n",
        "  result = compute_weighted_log_prob(action_prob, episode_return)\n",
        "  if result != -22.314354:\n",
        "    print(\"Your implementation looks incorrect.\")\n",
        "  else:\n",
        "    print(\"Looks correct.\")\n",
        "except Exception as e:\n",
        "    print(\"An Error Occured: {}\".format(e))"
      ]
    },
    {
      "cell_type": "markdown",
      "metadata": {
        "id": "NmgW9UJ3tIpl"
      },
      "source": [
        "### Rewards-to-go\n",
        "Выполнение градиентного подъема по градиенту логарифма вероятности действия, взвешенного по возврату эпизода, будет иметь тенденцию повышать вероятность действий, которые были в эпизодах с высоким возвратом, независимо от того, *где* в эпизоде ​​было выполнено действие. Это на самом деле не имеет большого смысла, потому что действие ближе к концу эпизода может быть подкреплено, потому что много вознаграждения было собрано ранее в эпизоде, *до* того, как было выполнено действие. Агенты RL должны на самом деле подкреплять действия только на основе их *последствий*. Вознаграждения, полученные до выполнения действия, не влияют на то, насколько хорошим было это действие: только вознаграждения, которые приходят после. Накопленные вознаграждения, полученные после выполнения действия, называются **вознаграждениями-к-переходу** и могут быть вычислены как:\n",
        "\n",
        "$\\hat{R}_i=\\sum_{t=i}^Tr_t$\n",
        "\n",
        "Сравните это с доходностью эпизода:\n",
        "\n",
        "$R(\\tau)=\\sum_{t=0}^Tr_t$\n",
        "\n",
        "Мы можем повысить надежность градиента политики, заменив доходность эпизода на вознаграждения-к-переходу. Градиент политики с оставшимися наградами задается следующим образом:\n",
        "\n",
        "$\\nabla_{\\theta} J(\\pi_{\\theta})=\\underset{\\tau \\sim \\pi_{\\theta}}{\\mathrm{E}}[\\sum_{t=0}^{T} \\nabla_{\\theta} \\log \\pi_{\\theta}(a_{t} \\mid s_{t}) \\hat{R}_t]$\n",
        "\n",
        "**Упражнение 7:** Реализуйте функцию, которая берет список всех наград, полученных в эпизоде, и вычисляет оставшиеся награды. Не беспокойтесь об использовании JAX в этой функции. Вы можете использовать обычные операции Python, такие как `for-loops`."
      ]
    },
    {
      "cell_type": "code",
      "execution_count": null,
      "metadata": {
        "id": "nV1Hww8E3dUJ"
      },
      "outputs": [],
      "source": [
        "def compute_rewards_to_go(rewards):\n",
        "    \"\"\"\n",
        "    This function should take a list of rewards as input and\n",
        "    compute the rewards-to-go for each timestep.\n",
        "\n",
        "    EXAMPLE: compute_rewards_to_go([1,2,3,4]) = [10, 9, 7, 4]\n",
        "\n",
        "    Arguments:\n",
        "        rewards[t] is the reward at time step t.\n",
        "\n",
        "    Returns:\n",
        "        rewards_to_go[t] should be the reward-to-go at timestep t.\n",
        "    \"\"\"\n",
        "\n",
        "    rewards_to_go = []\n",
        "\n",
        "    # YOUR CODE\n",
        "\n",
        "    # Инициализируем сумму вознаграждений\n",
        "    total_reward = 0\n",
        "\n",
        "    # Обходим список вознаграждений в обратном порядке\n",
        "    for reward in reversed(rewards):\n",
        "        total_reward += reward  # Добавляем текущее вознаграждение к сумме\n",
        "        rewards_to_go.append(total_reward)  # Добавляем сумму в список\n",
        "\n",
        "    # Переворачиваем список, чтобы вознаграждения-к-переходу были в правильном порядке\n",
        "    rewards_to_go = list(reversed(rewards_to_go))\n",
        "\n",
        "    # END YOUR CODE\n",
        "\n",
        "    return rewards_to_go"
      ]
    },
    {
      "cell_type": "code",
      "execution_count": null,
      "metadata": {
        "id": "hLVaVRp28YGI",
        "colab": {
          "base_uri": "https://localhost:8080/"
        },
        "outputId": "1bb32eea-94b1-4e56-b7e6-f273b1b273ac"
      },
      "outputs": [
        {
          "output_type": "stream",
          "name": "stdout",
          "text": [
            "Looks correct.\n"
          ]
        }
      ],
      "source": [
        "#@title Проверка упр 7 {display-mode: \"form\"}\n",
        "\n",
        "try:\n",
        "  result = compute_rewards_to_go([1,2,3,4])\n",
        "\n",
        "  if result != [10, 9, 7, 4]:\n",
        "    print(\"There is a problem with your implementation.\")\n",
        "  else:\n",
        "    print(\"Looks correct.\")\n",
        "except Exception as e:\n",
        "    print(\"An Error Occured: {}\".format(e))\n"
      ]
    },
    {
      "cell_type": "markdown",
      "metadata": {
        "id": "IboxN9MS65i5"
      },
      "source": [
        "### REINFORCE memory\n",
        "Далее нам нужно будет создать новую память агента для хранения вознаграждений $\\hat{R}_t$ вместе с наблюдением $o_t$ и действием $a_t$ на каждом временном шаге. Ниже мы реализовали такой модуль памяти для вас. Функция `memory.sample()` вернет пакет из последних 500 воспоминаний. Вы можете прочитать код, чтобы попытаться понять его, но это не обязательно. Поэтому мы скрываем код по умолчанию."
      ]
    },
    {
      "cell_type": "code",
      "execution_count": null,
      "metadata": {
        "id": "xhS4V6auRjM3"
      },
      "outputs": [],
      "source": [
        "# @title Реализация памяти (run me) {display-mode: \"form\"}\n",
        "\n",
        "# NamedTuple to store memory\n",
        "EpisodeRewardsToGoMemory = collections.namedtuple(\"EpisodeRewardsToGoMemory\", [\"obs\", \"action\", \"reward_to_go\"])\n",
        "\n",
        "class EpisodeRewardsToGoBuffer:\n",
        "\n",
        "    def __init__(self, num_transitions_to_store=512, batch_size=256):\n",
        "        self.batch_size = batch_size\n",
        "        self.memory_buffer = collections.deque(maxlen=num_transitions_to_store)\n",
        "        self.current_episode_transition_buffer = []\n",
        "\n",
        "    def push(self, transition):\n",
        "        self.current_episode_transition_buffer.append(transition)\n",
        "\n",
        "        if transition.done:\n",
        "\n",
        "            episode_rewards = []\n",
        "            for t in self.current_episode_transition_buffer:\n",
        "                episode_rewards.append(t.reward)\n",
        "\n",
        "            r2g = compute_rewards_to_go(episode_rewards)\n",
        "\n",
        "            for i, t in enumerate(self.current_episode_transition_buffer):\n",
        "                memory = EpisodeRewardsToGoMemory(t.obs, t.action, r2g[i])\n",
        "                self.memory_buffer.append(memory)\n",
        "\n",
        "            # Reset episode buffer\n",
        "            self.current_episode_transition_buffer = []\n",
        "\n",
        "\n",
        "    def is_ready(self):\n",
        "        return len(self.memory_buffer) >= self.batch_size\n",
        "\n",
        "    def sample(self):\n",
        "        random_memory_sample = random.sample(self.memory_buffer, self.batch_size)\n",
        "\n",
        "        obs_batch, action_batch, reward_to_go_batch = zip(*random_memory_sample)\n",
        "\n",
        "        return EpisodeRewardsToGoMemory(\n",
        "            np.stack(obs_batch).astype(\"float32\"),\n",
        "            np.asarray(action_batch).astype(\"int32\"),\n",
        "            np.asarray(reward_to_go_batch).astype(\"int32\")\n",
        "        )\n",
        "\n",
        "\n",
        "# Instantiate Memory\n",
        "REINFORCE_memory = EpisodeRewardsToGoBuffer(num_transitions_to_store=512, batch_size=256)"
      ]
    },
    {
      "cell_type": "markdown",
      "metadata": {
        "id": "Idkav_aSYXvz"
      },
      "source": [
        "### Policy neural network\n",
        "Далее мы будем использовать простую нейронную сеть для аппроксимации политики. Наша нейронная сеть политики будет иметь входной слой, который принимает наблюдение в качестве входных данных и пропускает его через два скрытых слоя, а затем выводит одно скалярное значение для каждого из возможных действий. Таким образом, в CartPole выходной слой будет иметь размер `2`.\n",
        "\n",
        "[Haiku](https://github.com/deepmind/dm-haiku) — это библиотека для реализации нейронных сетей в JAX. Ниже мы реализовали простую функцию для создания сети политики для вас.\n"
      ]
    },
    {
      "cell_type": "code",
      "execution_count": null,
      "metadata": {
        "id": "j2XO7VkORjM4"
      },
      "outputs": [],
      "source": [
        "def make_policy_network(num_actions: int, layers=[20, 20]) -> hk.Transformed:\n",
        "  \"\"\"Factory for a simple MLP network for the policy.\"\"\"\n",
        "\n",
        "  def policy_network(obs):\n",
        "    network = hk.Sequential(\n",
        "        [\n",
        "            hk.Flatten(),\n",
        "            hk.nets.MLP(layers + [num_actions])\n",
        "        ]\n",
        "    )\n",
        "    return network(obs)\n",
        "\n",
        "  return hk.without_apply_rng(hk.transform(policy_network))"
      ]
    },
    {
      "cell_type": "markdown",
      "metadata": {
        "id": "1GR2y8FjaG-G"
      },
      "source": [
        "У сетей Haiku есть две важные функции, о которых вам нужно знать. Первая — `network.init(<random_key>, <input>)`, которая возвращает набор случайных начальных параметров. Второй метод — `network.apply(<params>, <input>)`, который передает входные данные через сеть, используя предоставленный набор параметров."
      ]
    },
    {
      "cell_type": "code",
      "execution_count": null,
      "metadata": {
        "id": "fJrn9o-Vatkw",
        "colab": {
          "base_uri": "https://localhost:8080/"
        },
        "outputId": "65518f76-72fa-4659-fa77-d89808227bd0"
      },
      "outputs": [
        {
          "output_type": "stream",
          "name": "stdout",
          "text": [
            "Initial params: dict_keys(['mlp/~/linear_0', 'mlp/~/linear_1', 'mlp/~/linear_2'])\n",
            "Policy network output: [ 0.91155875 -0.3961737 ]\n"
          ]
        }
      ],
      "source": [
        "# Example\n",
        "POLICY_NETWORK = make_policy_network(num_actions=num_actions, layers=[20,20])\n",
        "random_key = jax.random.PRNGKey(42) # random key\n",
        "dummy_obs = np.ones(obs_shape, \"float32\")\n",
        "\n",
        "# Initialise parameters\n",
        "REINFORCE_params = POLICY_NETWORK.init(random_key, dummy_obs)\n",
        "print(\"Initial params:\", REINFORCE_params.keys())\n",
        "\n",
        "# Pass input through the network\n",
        "output = POLICY_NETWORK.apply(REINFORCE_params, dummy_obs)\n",
        "print(\"Policy network output:\", output)\n"
      ]
    },
    {
      "cell_type": "markdown",
      "metadata": {
        "id": "MlouUBvoeunz"
      },
      "source": [
        "Выходы нашей сети политик — [логиты](https://qr.ae/pv4YTe). Чтобы преобразовать это в распределение вероятностей по действиям, мы передаем логиты в функцию [softmax](https://en.wikipedia.org/wiki/Softmax_function).\n",
        "\n",
        "### УСИЛЕНИЕ выбор функции действия\n",
        "\n",
        "**Упражнение 8:** Завершите функцию ниже, которая берет вектор логитов и случайным образом выбирает действие из категориального распределения, заданного логитами.\n",
        "\n",
        "**Полезные функции:**"
      ]
    },
    {
      "cell_type": "code",
      "execution_count": null,
      "metadata": {
        "id": "m3Z8DxUmeOGJ"
      },
      "outputs": [],
      "source": [
        "def sample_action(random_key, logits):\n",
        "    \"\"\"Sample an action from a categorical distribution defined by logits.\n",
        "\n",
        "    Args:\n",
        "        random_key: A JAX random key for generating random numbers.\n",
        "        logits: A vector of logits representing the unnormalized probabilities of actions.\n",
        "\n",
        "    Returns:\n",
        "        action: An integer representing the sampled action.\n",
        "    \"\"\"\n",
        "    # YOUR CODE HERE\n",
        "\n",
        "    # Use jax.random.categorical to sample an action from the categorical distribution\n",
        "    action = jax.random.categorical(random_key, logits)\n",
        "\n",
        "    # END YOUR code\n",
        "\n",
        "    return action"
      ]
    },
    {
      "cell_type": "code",
      "execution_count": null,
      "metadata": {
        "id": "5opHJMO0D_Ub",
        "colab": {
          "base_uri": "https://localhost:8080/"
        },
        "outputId": "be691dcb-8af4-4e94-eef1-fcf4e0297417"
      },
      "outputs": [
        {
          "output_type": "stream",
          "name": "stdout",
          "text": [
            "Seems correct.\n"
          ]
        }
      ],
      "source": [
        "#@title Проверка упр 8 {display-mode: \"form\"}\n",
        "\n",
        "try:\n",
        "  random_key = jax.random.PRNGKey(42) # random key\n",
        "  action = sample_action(random_key, np.array([1,2], \"float32\"))\n",
        "  if action != 1:\n",
        "    print(\"Your function is incorrect.\")\n",
        "  else:\n",
        "    print(\"Seems correct.\")\n",
        "except Exception as e:\n",
        "    print(\"An Error Occured: {}\".format(e))"
      ]
    },
    {
      "cell_type": "markdown",
      "metadata": {
        "id": "jP5UH87VRjM4"
      },
      "source": [
        "Теперь мы можем реализовать функцию `REINFORCE_choose_action`. Мы передадим наблюдение через сеть политики для вычисления логитов, а затем передадим логиты в функцию `sample_action` для выбора и действия."
      ]
    },
    {
      "cell_type": "code",
      "execution_count": null,
      "metadata": {
        "id": "UJTzrDAZ0Ul5"
      },
      "outputs": [],
      "source": [
        "def REINFORCE_choose_action(key, params, actor_state, obs, evaluation=False):\n",
        "  obs = jnp.expand_dims(obs, axis=0) # add dummy batch dim before passing through network\n",
        "\n",
        "  # Pass obs through policy network to compute logits\n",
        "  logits = POLICY_NETWORK.apply(params, obs)\n",
        "  logits = logits[0] # remove batch dim\n",
        "\n",
        "  # Randomly sample action\n",
        "  sampled_action = sample_action(key, logits)\n",
        "\n",
        "  return sampled_action, actor_state"
      ]
    },
    {
      "cell_type": "markdown",
      "metadata": {
        "id": "NI26SLAb7iRo"
      },
      "source": [
        "Теперь, когда мы реализовали функцию `REINFORCE_choose_action`, нам осталось только создать функцию `REINFORCE_learn`. Функция обучения должна использовать функцию `weighted_log_prob`, которую мы создали ранее, чтобы вычислить потери градиента политики и применить обновления градиента к нашей нейронной сети."
      ]
    },
    {
      "cell_type": "markdown",
      "metadata": {
        "id": "36ALCJESQJ8e"
      },
      "source": [
        "### Policy gradient loss\n",
        "\n",
        "\n",
        "**Упражнение 9:** Завершите функцию `policy_gradient_loss` ниже. Функция должна вычислять вероятности действий, пропуская `logits` через функцию softmax. Затем следует извлечь вероятность заданного `action` (используя индексацию массива) и вычислить `weighted_log_prob`, используя функцию, которую мы создали ранее.\n",
        "\n",
        "**Полезные методы:**\n",
        "*   `jax.nn.softmax` ([docs](https://jax.readthedocs.io/en/latest/_autosummary/jax.nn.softmax.html))"
      ]
    },
    {
      "cell_type": "code",
      "execution_count": null,
      "metadata": {
        "id": "9sUKkqx0RjM4"
      },
      "outputs": [],
      "source": [
        "\n",
        "def policy_gradient_loss(action, logits, reward_to_go):\n",
        "\n",
        "    # YOUR CODE\n",
        "\n",
        "    all_action_probs = jnn.softmax(logits)\n",
        "\n",
        "    action_prob = all_action_probs[action]\n",
        "\n",
        "    weighted_log_prob = compute_weighted_log_prob(action_prob, reward_to_go)\n",
        "\n",
        "    # END YOUR CODE\n",
        "\n",
        "    loss = - weighted_log_prob\n",
        "\n",
        "    return loss"
      ]
    },
    {
      "cell_type": "code",
      "execution_count": null,
      "metadata": {
        "id": "7AMJvau1FsM5",
        "colab": {
          "base_uri": "https://localhost:8080/"
        },
        "outputId": "8e168013-4b71-4918-dd2d-9827fea356c5"
      },
      "outputs": [
        {
          "output_type": "stream",
          "name": "stdout",
          "text": [
            "Your implementation looks wrong. 3.1326165\n"
          ]
        }
      ],
      "source": [
        "#@title Проверка упр 9 {display-mode: \"form\"}\n",
        "\n",
        "try:\n",
        "  result = policy_gradient_loss(1, np.array([1,2], \"float32\"), 10)\n",
        "  if result != 3.1326175:\n",
        "    print(\"Your implementation looks wrong. \" + str(result))\n",
        "  else:\n",
        "    print(\"Looks correct.\")\n",
        "except Exception as e:\n",
        "  print(\"An Error Occured: {}\".format(e))\n"
      ]
    },
    {
      "cell_type": "markdown",
      "metadata": {
        "id": "Gzuqx1jJrwVx"
      },
      "source": [
        "Когда мы делаем шаг обновления градиента политики, мы захотим сделать это, используя пакет опыта, а не просто один опыт, как выше. Мы можем использовать функцию JAX [vmap](https://jax.readthedocs.io/en/latest/_autosummary/jax.vmap.html#jax.vmap), чтобы легко заставить нашу функцию `policy_gradient_loss` работать с пакетом опыта."
      ]
    },
    {
      "cell_type": "code",
      "execution_count": null,
      "metadata": {
        "id": "3yq4naLURjM4",
        "colab": {
          "base_uri": "https://localhost:8080/"
        },
        "outputId": "862aebe8-f986-42c1-ce8a-a825e66136fc"
      },
      "outputs": [
        {
          "output_type": "stream",
          "name": "stdout",
          "text": [
            "Policy gradient loss on batch: 1.6967314\n"
          ]
        }
      ],
      "source": [
        "def batched_policy_gradient_loss(params, obs_batch, action_batch, reward_to_go_batch):\n",
        "    # Get logits by passing observation through network\n",
        "    logits_batch = POLICY_NETWORK.apply(params, obs_batch)\n",
        "\n",
        "    policy_gradient_loss_batch = jax.vmap(policy_gradient_loss)(\n",
        "        action_batch,\n",
        "        logits_batch,\n",
        "        reward_to_go_batch) # add batch\n",
        "\n",
        "    # Compute mean loss over batch\n",
        "    mean_policy_gradient_loss = jnp.mean(policy_gradient_loss_batch)\n",
        "\n",
        "    return mean_policy_gradient_loss\n",
        "\n",
        "# TEST\n",
        "obs_batch = np.ones((3, *obs_shape), \"float32\")\n",
        "actions_batch = np.array([1,0,0])\n",
        "rew2go_batch = np.array([2.3, 4.3, 2.1])\n",
        "\n",
        "loss = batched_policy_gradient_loss(REINFORCE_params, obs_batch, actions_batch, rew2go_batch)\n",
        "\n",
        "print(\"Policy gradient loss on batch:\", loss)"
      ]
    },
    {
      "cell_type": "markdown",
      "metadata": {
        "id": "VDhTH3culwqo"
      },
      "source": [
        "### Оптимизатор сети\n",
        "\n",
        "Чтобы применить обновления градиента политики к нашей нейронной сети, мы будем использовать библиотеку JAX под названием [Optax](https://github.com/deepmind/optax). Optax имеет реализацию [оптимизатора Adam](https://www.geeksforgeeks.org/intuition-of-adam-optimizer/), которую мы можем использовать."
      ]
    },
    {
      "cell_type": "code",
      "execution_count": null,
      "metadata": {
        "id": "pxXINlMHP5Ic"
      },
      "outputs": [],
      "source": [
        "REINFORCE_OPTIMIZER = optax.adam(1e-3)\n",
        "\n",
        "# Initialise the optimiser\n",
        "REINFORCE_optim_state = REINFORCE_OPTIMIZER.init(REINFORCE_params)"
      ]
    },
    {
      "cell_type": "markdown",
      "metadata": {
        "id": "ViENrHOALbCw"
      },
      "source": [
        "Теперь у нас есть все необходимое для создания функции `REINFORCE_learn`. Мы сохраним состояние оптимизатора в `learn_state`. Мы вычислим градиент потерь градиента политики с помощью  `jax.grad` ([docs](https://jax.readthedocs.io/en/latest/_autosummary/jax.grad.html))."
      ]
    },
    {
      "cell_type": "code",
      "execution_count": null,
      "metadata": {
        "id": "CQr2Uz5ORjM5"
      },
      "outputs": [],
      "source": [
        "# A NamedTuple to store the state of the optimiser\n",
        "REINFORCELearnState = collections.namedtuple(\"LearnerState\", [\"optim_state\"])\n",
        "\n",
        "\n",
        "def REINFORCE_learn(key, params, learner_state, memory):\n",
        "\n",
        "  # Get the policy gradient by using `jax.grad()` on `batched_policy_gradient_loss`\n",
        "  grad_loss = jax.grad(batched_policy_gradient_loss)(params, memory.obs, memory.action, memory.reward_to_go)\n",
        "\n",
        "  # Get param updates using gradient and optimizer\n",
        "  updates, new_optim_state = REINFORCE_OPTIMIZER.update(grad_loss, learner_state.optim_state)\n",
        "\n",
        "  # Apply updates to params\n",
        "  params = optax.apply_updates(params, updates)\n",
        "\n",
        "  return params, REINFORCELearnState(new_optim_state) # update learner state"
      ]
    },
    {
      "cell_type": "markdown",
      "metadata": {
        "id": "5an3U2NhRKgG"
      },
      "source": [
        "### Цикл обучения REINFORCE\n",
        "Теперь мы можем обучить нашего агента REINFORCE, собрав все воедино с помощью цикла обучения."
      ]
    },
    {
      "cell_type": "code",
      "execution_count": null,
      "metadata": {
        "id": "vioIcVGsRjM5",
        "colab": {
          "base_uri": "https://localhost:8080/",
          "height": 686
        },
        "outputId": "d92b750b-3296-495e-d505-167ed5b92377"
      },
      "outputs": [
        {
          "output_type": "stream",
          "name": "stdout",
          "text": [
            "Starting training. This may take up to 10 minutes to complete.\n",
            "Episode: 0\tEpisode Return: 12.0\tAverage Episode Return: 12.0\tEvaluator Episode Return: 18.5\n",
            "Episode: 100\tEpisode Return: 37.0\tAverage Episode Return: 43.7\tEvaluator Episode Return: 61.25\n",
            "Episode: 200\tEpisode Return: 143.0\tAverage Episode Return: 152.1\tEvaluator Episode Return: 152.875\n",
            "Episode: 300\tEpisode Return: 174.0\tAverage Episode Return: 191.45\tEvaluator Episode Return: 194.0\n",
            "Episode: 400\tEpisode Return: 200.0\tAverage Episode Return: 189.4\tEvaluator Episode Return: 185.875\n",
            "Episode: 500\tEpisode Return: 200.0\tAverage Episode Return: 200.0\tEvaluator Episode Return: 198.875\n",
            "Episode: 600\tEpisode Return: 200.0\tAverage Episode Return: 196.55\tEvaluator Episode Return: 192.25\n",
            "Episode: 700\tEpisode Return: 182.0\tAverage Episode Return: 158.25\tEvaluator Episode Return: 152.625\n",
            "Episode: 800\tEpisode Return: 200.0\tAverage Episode Return: 192.2\tEvaluator Episode Return: 200.0\n",
            "Episode: 900\tEpisode Return: 200.0\tAverage Episode Return: 200.0\tEvaluator Episode Return: 200.0\n",
            "Episode: 1000\tEpisode Return: 200.0\tAverage Episode Return: 200.0\tEvaluator Episode Return: 200.0\n"
          ]
        },
        {
          "output_type": "display_data",
          "data": {
            "text/plain": [
              "<Figure size 640x480 with 1 Axes>"
            ],
            "image/png": "[encoded data removed]"
          },
          "metadata": {}
        }
      ],
      "source": [
        "# JIT the choose_action and learn functions for more speed\n",
        "REINFORCE_learn_jit = jax.jit(REINFORCE_learn)\n",
        "REINFORCE_choose_action_jit = jax.jit(REINFORCE_choose_action)\n",
        "\n",
        "# Initial learn state\n",
        "REINFORCE_learn_state = REINFORCELearnState(REINFORCE_optim_state)\n",
        "\n",
        "# Run training loop\n",
        "print(\"Starting training. This may take up to 10 minutes to complete.\")\n",
        "episode_returns, evaluator_returns = run_training_loop(\n",
        "                                        env_name,\n",
        "                                        REINFORCE_params,\n",
        "                                        REINFORCE_choose_action_jit,\n",
        "                                        None, # action state not used\n",
        "                                        REINFORCE_learn_jit,\n",
        "                                        REINFORCE_learn_state,\n",
        "                                        REINFORCE_memory,\n",
        "                                        num_episodes=1001,\n",
        "                                        learn_steps_per_episode=2,\n",
        "                                        video_subdir=\"reinforce\"\n",
        "                                      )\n",
        "\n",
        "# Plot the episode returns\n",
        "plt.plot(episode_returns)\n",
        "plt.xlabel(\"Episode\")\n",
        "plt.ylabel(\"Episode Return\")\n",
        "plt.title(\"REINFORCE\")\n",
        "plt.show()\n"
      ]
    },
    {
      "cell_type": "code",
      "execution_count": null,
      "metadata": {
        "id": "caKL3ngNr_Yh",
        "colab": {
          "base_uri": "https://localhost:8080/",
          "height": 288
        },
        "outputId": "f43412dc-d0cd-496d-f469-0f221fd73104"
      },
      "outputs": [
        {
          "output_type": "execute_result",
          "data": {
            "text/plain": [
              "<IPython.core.display.HTML object>"
            ],
            "text/html": [
              "\n",
              "<video width=400 controls>\n",
              "      <source src=\"data:video/mp4;base64,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\" type=\"video/mp4\">\n",
              "</video>\n"
            ]
          },
          "metadata": {},
          "execution_count": 70
        }
      ],
      "source": [
        "#@title Визуализация {display-mode: \"form\"}\n",
        "#@markdown Выберите номер эпизода, менее или равного 1000, и **run this cell**.\n",
        "\n",
        "episode_number = 1000 #@param {type:\"number\"}\n",
        "\n",
        "assert (episode_number % 100) == 0, \"Episode number must be a multiple of 100 since we only record every 100th episode.\"\n",
        "assert episode_number < 1001, \"Episode number must be less than or equal to 1000\"\n",
        "\n",
        "eval_episode_number = int(episode_number / 100 * 8)\n",
        "video_path = f\"./video/reinforce/eval/rl-video-episode-{eval_episode_number}.mp4\"\n",
        "\n",
        "mp4 = open(video_path,'rb').read()\n",
        "data_url = \"data:video/mp4;base64,\" + b64encode(mp4).decode()\n",
        "HTML(\"\"\"\n",
        "<video width=400 controls>\n",
        "      <source src=\"%s\" type=\"video/mp4\">\n",
        "</video>\n",
        "\"\"\" % data_url)"
      ]
    },
    {
      "cell_type": "markdown",
      "metadata": {
        "id": "D_HHzFTOc-Qr"
      },
      "source": [
        "## 4. Q-Learning\n",
        "Другим распространенным подходом к поиску оптимальной политики в среде с использованием RL является Q-обучение."
      ]
    },
    {
      "cell_type": "markdown",
      "metadata": {
        "id": "lF1nOZrUSzhE"
      },
      "source": [
        "### Функция значения состояния-действия\n",
        "В Q-обучении агент изучает функцию, которая аппроксимирует **значение** пар состояние-действие. Под *значением* мы подразумеваем отдачу, которую вы ожидаете получить, если начнете в определенном состоянии $s_t$, выполните определенное действие $a_t$, а затем будете действовать в соответствии с определенной политикой $\\pi$ навсегда. Функция значения состояния-действия политики $\\pi$ задается как\n",
        "\n",
        "$Q_\\pi(s,a)=\\mathrm{E}_{\\tau\\sim\\pi}\\left[R(\\tau) \\mid s_0=s,\\ a_t=a\\right]$.\n",
        "\n",
        "Мы говорим, что функция значения $Q_\\pi(s,a)$ является **оптимальной** функцией значения, если политика $\\pi$ является оптимальной политикой. Обозначим функцию оптимального значения следующим образом:\n",
        "\n",
        "$Q_\\ast(s,a)=\\max \\limits_\\pi \\ \\mathrm{E}_{\\tau\\sim\\pi}\\left[R(\\tau) \\mid s_0=s,\\ a_0=a\\right]$\n",
        "\n",
        "Существует важная связь между оптимальным действием $a_\\ast$ в состоянии $s$ и оптимальной функцией значения состояния-действия $Q_\\ast$. А именно, оптимальное действие $a_\\ast$ в состоянии $s$ равно действию, которое максимизирует оптимальную функцию значения состояния-действия. Эта связь естественным образом индуцирует оптимальную политику:\n",
        "\n",
        "$\\pi_\\ast(s)=\\arg \\max \\limits_a\\ Q_\\ast(s, a)$"
      ]
    },
    {
      "cell_type": "markdown",
      "metadata": {
        "id": "H2x2tqvZSihz"
      },
      "source": [
        "### Greedy action selection (Жадный выбор действия)\n",
        "\n",
        "**Упражнение 10:** Давайте реализуем функцию, которая, учитывая вектор Q-значений, возвращает действие с наибольшим Q-значением (т. е. жадное действие).\n",
        "\n",
        "**Useful methods:**\n",
        "*   `jax.numpy.argmax` ([docs](https://jax.readthedocs.io/en/latest/_autosummary/jax.numpy.argmax.html))"
      ]
    },
    {
      "cell_type": "code",
      "execution_count": null,
      "metadata": {
        "id": "Nn9P1YdzTIDU"
      },
      "outputs": [],
      "source": [
        "# Implement a function takes q-values as input and returns the greedy_action\n",
        "def select_greedy_action(q_values):\n",
        "\n",
        "    # YOUR CODE\n",
        "\n",
        "    # Use jax.numpy.argmax to find the index of the maximum Q-value\n",
        "    action = jnp.argmax(q_values)\n",
        "\n",
        "    # END YOUR CODE\n",
        "\n",
        "    return action"
      ]
    },
    {
      "cell_type": "code",
      "execution_count": null,
      "metadata": {
        "id": "ZBzLr_G7QKXR",
        "colab": {
          "base_uri": "https://localhost:8080/"
        },
        "outputId": "73ab7b62-f7fa-4c2c-c340-dfe64c04aae7"
      },
      "outputs": [
        {
          "output_type": "stream",
          "name": "stdout",
          "text": [
            "Looks good.\n"
          ]
        }
      ],
      "source": [
        "# @title Проверка упр 10 (run me) {display-mode: \"form\"}\n",
        "\n",
        "try:\n",
        "  q_values = jnp.array([1,1,3,4])\n",
        "  action = select_greedy_action(q_values)\n",
        "\n",
        "  if action != 3:\n",
        "    print(\"Incorrect answer, your greedy action selector looks wrong\")\n",
        "  else:\n",
        "    print(\"Looks good.\")\n",
        "except Exception as e:\n",
        "  print(\"An Error Occured: {}\".format(e))\n"
      ]
    },
    {
      "cell_type": "markdown",
      "metadata": {
        "id": "PFQUlqZ4ZyLp"
      },
      "source": [
        "### Q-Network\n",
        "В отличие от подхода с градиентом политики из предыдущего раздела, в Q-обучении и других методах RL на основе значений нам не нужна параметризация для политики, вместо этого мы параметризуем Q-функцию с помощью нейронной сети $Q_\\theta$. Мы получаем политику из Q-сети, всегда выбирая действие с *наибольшим* значением:\n",
        "\n",
        "$\\hat{\\pi}_\\theta(s)=\\arg \\max \\limits_a\\ Q_{\\theta}(s, a)$\n",
        "\n",
        "Как и ранее, мы будем использовать хайку для создания нейронной сети для аппроксимации этой Q-функции. Сеть будет принимать наблюдение в качестве входных данных, а затем выводить Q-значение для каждого из доступных действий. Таким образом, в случае CartPole выход сети будет иметь размер $2$."
      ]
    },
    {
      "cell_type": "code",
      "execution_count": null,
      "metadata": {
        "id": "9wU1soJYZyLp"
      },
      "outputs": [],
      "source": [
        "def build_network(num_actions: int, layers=[20, 20]) -> hk.Transformed:\n",
        "  \"\"\"Factory for a simple MLP network for approximating Q-values.\"\"\"\n",
        "\n",
        "  def q_network(obs):\n",
        "    network = hk.Sequential(\n",
        "        [hk.Flatten(),\n",
        "         hk.nets.MLP(layers + [num_actions])])\n",
        "    return network(obs)\n",
        "\n",
        "  return hk.without_apply_rng(hk.transform(q_network))"
      ]
    },
    {
      "cell_type": "markdown",
      "metadata": {
        "id": "sUwG-4qTS1zx"
      },
      "source": [
        "Давайте инициализируем нашу Q-сеть и получим начальные параметры."
      ]
    },
    {
      "cell_type": "code",
      "execution_count": null,
      "metadata": {
        "id": "1uvq5n2cS9lu",
        "colab": {
          "base_uri": "https://localhost:8080/"
        },
        "outputId": "dbf495de-40a2-4496-fca1-9211d2e92fb6"
      },
      "outputs": [
        {
          "output_type": "stream",
          "name": "stdout",
          "text": [
            "Q-Learning params: dict_keys(['mlp/~/linear_0', 'mlp/~/linear_1', 'mlp/~/linear_2'])\n"
          ]
        }
      ],
      "source": [
        "# Initialise Q-network\n",
        "Q_NETWORK = build_network(num_actions=num_actions, layers=[20, 20]) # two actions\n",
        "\n",
        "dummy_obs = jnp.zeros((1,*obs_shape), jnp.float32) # a dummy observation like the one in CartPole\n",
        "\n",
        "random_key = jax.random.PRNGKey(42) # random key\n",
        "Q_NETWORK_PARAMS = Q_NETWORK.init(random_key, dummy_obs) # Get initial params\n",
        "\n",
        "print(\"Q-Learning params:\", Q_NETWORK_PARAMS.keys())"
      ]
    },
    {
      "cell_type": "markdown",
      "metadata": {
        "id": "iqCUeZfhEfyP"
      },
      "source": [
        "Прежде чем мы реализуем функцию потерь, необходимую для обучения нашей Q-сети, давайте сначала обсудим интуицию, стоящую за ней."
      ]
    },
    {
      "cell_type": "markdown",
      "metadata": {
        "id": "vbLig3uSZyLp"
      },
      "source": [
        "### The Bellman Equations (Уравнения Беллмана)\n",
        "Функция значения может быть записана рекурсивно как:\n",
        "\n",
        "$Q_{\\pi}(s, a) =\\underset{s^{\\prime} \\sim P}{\\mathrm{E}}\\left[r(s, a)+ \\underset{a^{\\prime} \\sim \\pi}{\\mathrm{E}}\\left[Q_{\\pi}\\left(s^{\\prime}, a^{\\prime}\\right)\\right]\\right]$,\n",
        "\n",
        "где $s' \\sim P$ — это сокращение для обозначения того, что следующее состояние $s'$ выбирается из функции перехода среды $P(s'\\mid s,a)$. Интуитивно это уравнение говорит, что ценность действия $a$, которое вы предприняли в состоянии $s$, равна вознаграждению $r$, которое вы ожидаете получить, плюс ценность, которую вы ожидаете получить в следующем состоянии $s`$, в котором вы окажетесь, при условии, что вы выберете свое следующее действие $a`$ с политикой $\\pi$. Уравнение Беллмана для оптимальной функции ценности выглядит так:\n",
        "\n",
        "$Q_{*}(s, a) =\\underset{s^{\\prime} \\sim P}{\\mathrm{E}}\\left[r(s, a)+\\ \\underset{a^{\\prime}}{\\max}\\ Q_{*}(s^{\\prime}, a^{\\prime})\\right]$\n",
        "\n",
        "Обратите внимание, что вместо выбора вашего следующего действия $a`$ с политикой $\\pi$ мы выбираем действие с наибольшим значением Q.\n",
        "\n",
        "Более подробное обсуждение уравнений Беллмана можно найти на сайте [OpenAI Spinning Up](https://spinningup.openai.com/en/latest/spinningup/rl_intro.html)."
      ]
    },
    {
      "cell_type": "markdown",
      "metadata": {
        "id": "DsOJi5G8ZyLp"
      },
      "source": [
        "### The Bellman Backup (Резервное копирование Беллмана)\n",
        "\n",
        "Чтобы научиться аппроксимировать оптимальную функцию Q-значения, мы можем использовать правую часть уравнения Беллмана в качестве правила обновления. Другими словами, предположим, что у нас есть Q-сеть $Q_\\theta$, аппроксимированная с использованием параметров $\\theta$, тогда мы можем итеративно обновлять параметры таким образом, что\n",
        "\n",
        "$Q_\\theta(s,a)\\leftarrow r(s, a) + \\underset{a'}{\\max}\\ Q_\\theta(s', a')$.\n",
        "\n",
        "Интуитивно это означает, что аппроксимация Q-значения действия $a$ в состоянии $s$ должна быть обновлена ​​таким образом, чтобы она была ближе к равной вознаграждению, полученному от среды $r(s, a)$, плюс значение наилучшего возможного действия в следующем состоянии $s'$. Мы можем выполнить эту оптимизацию, минимизируя разницу между левой и правой частью относительно параметров $\\theta$, используя градиентный спуск. Мы можем измерить разницу между двумя значениями, используя [квадратичную ошибку](https://en.wikipedia.org/wiki/Mean_squared_error#Loss_function).\n",
        "\n",
        "**Упражнение 11:** Реализуйте функцию квадратичной ошибки.\n",
        "\n",
        "**Полезные функции**\n",
        "* `jax.numpy.square` ([docs](https://jax.readthedocs.io/en/latest/_autosummary/jax.numpy.square.html))"
      ]
    },
    {
      "cell_type": "code",
      "execution_count": null,
      "metadata": {
        "id": "PTto__ohZyLp"
      },
      "outputs": [],
      "source": [
        "def compute_squared_error(pred, target):\n",
        "  # YOUR CODE\n",
        "  squared_error = jnp.square(pred - target)\n",
        "  # END YOUR CODE\n",
        "\n",
        "  return squared_error"
      ]
    },
    {
      "cell_type": "code",
      "execution_count": null,
      "metadata": {
        "id": "wGhX8XTFVPVU",
        "colab": {
          "base_uri": "https://localhost:8080/"
        },
        "outputId": "5d9b3786-4022-4394-b406-012e9041c9d9"
      },
      "outputs": [
        {
          "output_type": "stream",
          "name": "stdout",
          "text": [
            "Looks good.\n"
          ]
        }
      ],
      "source": [
        "#@title Проверка упр 11 {display-mode: \"form\"}\n",
        "\n",
        "try:\n",
        "  result = compute_squared_error(1, 4)\n",
        "\n",
        "  if result != 9:\n",
        "    print(\"Your implementation looks wrong.\")\n",
        "  else:\n",
        "    print(\"Looks good.\")\n",
        "except Exception as e:\n",
        "  print(\"An Error Occured: {}\".format(e))"
      ]
    },
    {
      "cell_type": "markdown",
      "metadata": {
        "id": "ycpZVkgdZyLp"
      },
      "source": [
        "**Упражнение 12:** Реализуйте функцию, которая вычисляет **цель Беллмана** (правая часть уравнения Беллмана). Если эпизод находится на последнем временном шаге (т. е. done==1.0), то цель Беллмана должна быть равна награде, без дополнительного значения в конце.\n",
        "\n",
        "**Полезные функции**\n",
        "* `jax.numpy.max` ([docs](https://jax.readthedocs.io/en/latest/_autosummary/jax.numpy.max.html))"
      ]
    },
    {
      "cell_type": "code",
      "execution_count": null,
      "metadata": {
        "id": "961_OllWZyLp"
      },
      "outputs": [],
      "source": [
        "# Bellman target\n",
        "def compute_bellman_target(reward, done, next_q_values):\n",
        "  \"\"\"A function to compute the bellman target.\n",
        "\n",
        "  Args:\n",
        "      reward: a scalar reward.\n",
        "      done: a scalar of value either 1.0 or 0.0, indicating if the transition is a terminal one.\n",
        "      next_q_values: a vector of q_values for the next state. One for each action.\n",
        "  Returns:\n",
        "      A scalar equal to the bellman target.\n",
        "\n",
        "  \"\"\"\n",
        "  # YOUR CODE\n",
        "  bellman_target = reward + (1.0 - done) * jnp.max(next_q_values)\n",
        "\n",
        "  # END YOUR CODE\n",
        "\n",
        "  return bellman_target"
      ]
    },
    {
      "cell_type": "code",
      "execution_count": null,
      "metadata": {
        "id": "E5RAhegOWAkC",
        "colab": {
          "base_uri": "https://localhost:8080/"
        },
        "outputId": "802a2b2f-7463-48d1-efc2-a0d0cbf1a8df"
      },
      "outputs": [
        {
          "output_type": "stream",
          "name": "stdout",
          "text": [
            "Looks good.\n"
          ]
        }
      ],
      "source": [
        "#@title Проверка упр 12 {display-mode: \"form\"}\n",
        "\n",
        "try:\n",
        "  # not done\n",
        "  result1 = compute_bellman_target(1, 0.0, np.array([3,2], \"float32\"))\n",
        "\n",
        "  # done\n",
        "  result2 = compute_bellman_target(1, 1.0, np.array([3,2], \"float32\"))\n",
        "\n",
        "  if result1 != 4 or result2 != 1:\n",
        "    print(\"Your implementation looks wrong.\")\n",
        "  else:\n",
        "    print(\"Looks good.\")\n",
        "except Exception as e:\n",
        "  print(\"An Error Occured: {}\".format(e))"
      ]
    },
    {
      "cell_type": "markdown",
      "metadata": {
        "id": "8sIjrHSJZyLq"
      },
      "source": [
        "Теперь мы можем объединить эти две функции, чтобы вычислить потерю для Q-обучения. Потери Q-обучения равны квадрату разницы между прогнозируемым значением Q действия и его соответствующей целью Беллмана.\n",
        "\n",
        "**Упражнение 13:** Реализуйте функцию потери Q-обучения."
      ]
    },
    {
      "cell_type": "code",
      "execution_count": null,
      "metadata": {
        "id": "LJY_kpFcZyLq"
      },
      "outputs": [],
      "source": [
        "def q_learning_loss(q_values, action, reward, done, next_q_values):\n",
        "    \"\"\"Implementation of the Q-learning loss.T\n",
        "\n",
        "    Args:\n",
        "        q_values: a vector of Q-values, one for each action.\n",
        "        action: an integer, giving the action that was chosen. q_values[action] is the value of the chose action.\n",
        "        done: is a scalar that indicates if this is a terminal transition.\n",
        "        next_q_values: a vector of Q-values in the next state.\n",
        "    Returns:\n",
        "        The squared difference between the q_value of the chosen action and the bellman target.\n",
        "    \"\"\"\n",
        "    # YOUR CODE\n",
        "    chosen_action_q_value = q_values[action]\n",
        "    bellman_target = compute_bellman_target(reward, done, next_q_values)\n",
        "    squared_error = compute_squared_error(chosen_action_q_value, bellman_target)\n",
        "    # END YOUR CODE\n",
        "\n",
        "    return squared_error"
      ]
    },
    {
      "cell_type": "code",
      "execution_count": null,
      "metadata": {
        "id": "1aZRn1qaWx2M",
        "colab": {
          "base_uri": "https://localhost:8080/"
        },
        "outputId": "90b96f06-7fb1-44de-f996-7e5394eda372"
      },
      "outputs": [
        {
          "output_type": "stream",
          "name": "stdout",
          "text": [
            "Looks good.\n"
          ]
        }
      ],
      "source": [
        "#@title Проверка упр 13 {display-mode: \"form\"}\n",
        "\n",
        "try:\n",
        "  result = q_learning_loss(np.array([3,2], \"float32\"), 1, 2, 0.0, np.array([3,2], \"float32\"))\n",
        "\n",
        "  if result != 9.0:\n",
        "    print(\"Your implementation looks wrong.\")\n",
        "  else:\n",
        "    print(\"Looks good.\")\n",
        "except Exception as e:\n",
        "  print(\"An Error Occured: {}\".format(e))"
      ]
    },
    {
      "cell_type": "markdown",
      "metadata": {
        "id": "b4YnSUfJZyLq"
      },
      "source": [
        "### Target Q-network (Целевая Q-сеть)\n",
        "Обратите внимание: когда мы вычисляем цель Беллмана, мы используем нашу Q-сеть $Q_\\theta$ для вычисления значения для следующего состояния $s_t$. По сути, мы используем наше последнее приближение Q-функции для вычисления цели нашего следующего приближения. Использование приближения для вычисления цели для вашего следующего приближения называется самозагрузкой. К сожалению, если мы наивно делаем такую ​​самозагрузку, это может сделать обучение нейронной сети очень нестабильным. Чтобы смягчить это, мы можем вместо этого использовать другой набор параметров $\\hat{\\theta}$ для вычисления значений в состоянии $s_{t+1}$. Мы будем сохранять параметры $\\hat{\\theta}$ фиксированными и только периодически обновлять их, чтобы они были равны последним онлайн-параметрам $\\theta$ каждые пару шагов обучения *(скажем, 100)*. Это позволяет сохранять фиксированные цели Беллмана для пары шагов обучения, чтобы помочь снизить нестабильность из-за самозагрузки.\n",
        "\n",
        "Нам нужно будет отслеживать последние (онлайн) параметры, а также параметры целевых сетей. Давайте создадим `NamedTuple` для хранения этих двух значений. Нам также нужно будет отслеживать количество шагов обучения, которые мы сделали, чтобы знать, когда обновлять целевую сеть. Давайте сохраним `count` шагов обучения в `learn_state`."
      ]
    },
    {
      "cell_type": "code",
      "execution_count": null,
      "metadata": {
        "id": "DvZqUKmq6L7k"
      },
      "outputs": [],
      "source": [
        "# Store online and target parameters\n",
        "QLearnParams = collections.namedtuple(\"Params\", [\"online\", \"target\"])\n",
        "\n",
        "# Q-learn-state\n",
        "QLearnState = collections.namedtuple(\"LearnerState\", [\"count\", \"optim_state\"])"
      ]
    },
    {
      "cell_type": "markdown",
      "metadata": {
        "id": "CJWH2_kNZsau"
      },
      "source": [
        "Мы снова будем использовать Optax для оптимизации нашей нейронной сети в JAX. Мы сохраняем состояние оптимизатора в `learn_state` выше. Давайте теперь создадим экземпляр оптимизатора и добавим начальные параметры Q-сети в объект `QLearnParams`."
      ]
    },
    {
      "cell_type": "code",
      "execution_count": null,
      "metadata": {
        "id": "HwqKTN6BaAXE"
      },
      "outputs": [],
      "source": [
        "# Initialise Q-network optimizer\n",
        "Q_LEARN_OPTIMIZER = optax.adam(3e-4) # learning rate\n",
        "\n",
        "Q_LEARN_OPTIM_STATE = Q_LEARN_OPTIMIZER.init(Q_NETWORK_PARAMS) # initial optim state\n",
        "\n",
        "# Create Learn State\n",
        "Q_LEARNING_LEARN_STATE = QLearnState(0, Q_LEARN_OPTIM_STATE) # count set to zero initially\n",
        "\n",
        "# Add initial Q-network weights to QLearnParams object\n",
        "Q_LEARNING_PARAMS = QLearnParams(online=Q_NETWORK_PARAMS, target=Q_NETWORK_PARAMS) # target equal to online"
      ]
    },
    {
      "cell_type": "markdown",
      "metadata": {
        "id": "xj89M8LgZlFe"
      },
      "source": [
        "Теперь мы можем реализовать простую функцию, которая обновляет параметры целевых сетей, чтобы они соответствовали последним онлайн-параметрам каждые 100 шагов обучения."
      ]
    },
    {
      "cell_type": "code",
      "execution_count": null,
      "metadata": {
        "id": "SKrg_3rO6cCL"
      },
      "outputs": [],
      "source": [
        "def update_target_params(learn_state, online_weights, target_weights):\n",
        "  \"\"\"A function to update target params every 100 training steps\"\"\"\n",
        "\n",
        "  target = jax.lax.cond(\n",
        "      jax.numpy.mod(learn_state.count, 100) == 0,\n",
        "      lambda x, y: x,\n",
        "      lambda x, y: y,\n",
        "      online_weights,\n",
        "      target_weights\n",
        "  )\n",
        "\n",
        "  params = QLearnParams(online_weights, target)\n",
        "\n",
        "  return params"
      ]
    },
    {
      "cell_type": "markdown",
      "metadata": {
        "id": "KoiaYSo9ZyLq"
      },
      "source": [
        "### Q-learning loss (Функция потери Q-обучения)\n",
        "Теперь у нас есть все необходимое для реализации функции `q_learn`, которая принимает некоторую партию переходов и выполняет шаг Q-обучения для обновления параметров сети. Но сначала мы используем `jax.vmap` для изменения функции `q_learning_loss` так, чтобы она принимала партии переходов. Кроме того, мы вычислим Q-значения, передавая наблюдения через `Q_NETWORK`, и целевые Q-значения, используя целевые параметры `Q_NETWORK`."
      ]
    },
    {
      "cell_type": "code",
      "execution_count": null,
      "metadata": {
        "id": "hnrsGppWZyLq"
      },
      "outputs": [],
      "source": [
        "def batched_q_learning_loss(online_params, target_params, obs, actions, rewards, next_obs, dones):\n",
        "    q_values = Q_NETWORK.apply(online_params, obs) # use the online parameters\n",
        "    next_q_values = Q_NETWORK.apply(target_params, next_obs) # use the target parameters\n",
        "    squared_error = jax.vmap(q_learning_loss)(q_values, actions, rewards, dones, next_q_values) # vmap q_learning_loss\n",
        "    mean_squared_error = jnp.mean(squared_error) # mean squared error over batch\n",
        "    return mean_squared_error"
      ]
    },
    {
      "cell_type": "markdown",
      "metadata": {
        "id": "CU8vo9ZebnEa"
      },
      "source": [
        "Теперь мы можем создать функцию `q_learn`, которая вычисляет градиент `batched_q_learning_loss`, а затем использует оптимизатор Optax для обновления весов сети, а затем, наконец (возможно), обновляет целевые параметры."
      ]
    },
    {
      "cell_type": "code",
      "execution_count": null,
      "metadata": {
        "id": "6BYoX2W_ZyLr"
      },
      "outputs": [],
      "source": [
        "def q_learn(rng, params, learner_state, memory):\n",
        "  # Compute gradients\n",
        "  grad_loss = jax.grad(batched_q_learning_loss)(params.online, params.target, memory.obs,\n",
        "                                          memory.action, memory.reward,\n",
        "                                          memory.next_obs, memory.done,\n",
        "                                          ) # jax.grad\n",
        "\n",
        "  # Get updates\n",
        "  updates, opt_state = Q_LEARN_OPTIMIZER.update(grad_loss, learner_state.optim_state)\n",
        "\n",
        "  # Apply them\n",
        "  new_weights = optax.apply_updates(params.online, updates)\n",
        "\n",
        "  # Maybe update target network\n",
        "  params = update_target_params(learner_state, new_weights, params.target)\n",
        "\n",
        "  # Increment learner step counter\n",
        "  learner_state = QLearnState(learner_state.count + 1, opt_state)\n",
        "\n",
        "  return params, learner_state"
      ]
    },
    {
      "cell_type": "markdown",
      "metadata": {
        "id": "VpZsKHssZyLq"
      },
      "source": [
        "### Replay Buffer (Буфер воспроизведения)\n",
        "Для Q-обучения нам понадобится память агента, которая хранит целые переходы: `obs`, `action`, `reward`, `next_obs`, `done`. Когда мы извлекаем переходы из памяти, они должны выбираться случайным образом из всех переходов, собранных до сих пор. В RL мы часто называем такой модуль **буфером воспроизведения**.\n",
        "\n",
        "Одним из преимуществ использования такого буфера воспроизведения является то, что опыт можно повторно использовать несколько раз для обучения, в отличие от алгоритма градиента политики REINFORCE, где мы отбрасывали воспоминания после их использования для обучения."
      ]
    },
    {
      "cell_type": "code",
      "execution_count": null,
      "metadata": {
        "id": "8tv5dUH6ZyLr"
      },
      "outputs": [],
      "source": [
        "class TransitionMemory(object):\n",
        "  \"\"\"A simple Python replay buffer.\"\"\"\n",
        "\n",
        "  def __init__(self, max_size=10_000, batch_size=256):\n",
        "    self.batch_size = batch_size\n",
        "    self.buffer = collections.deque(maxlen=max_size)\n",
        "\n",
        "  def push(self, transition):\n",
        "\n",
        "    # add transition to the replay buffer\n",
        "    self.buffer.append(\n",
        "        (transition.obs, transition.action, transition.reward,\n",
        "          transition.next_obs, transition.done)\n",
        "    )\n",
        "\n",
        "\n",
        "  def is_ready(self):\n",
        "    return self.batch_size <= len(self.buffer)\n",
        "\n",
        "  def sample(self):\n",
        "    # Randomly sample a batch of transitions from the buffer\n",
        "    random_replay_sample = random.sample(self.buffer, self.batch_size)\n",
        "\n",
        "    # Batch the transitions together\n",
        "    obs_batch, action_batch, reward_batch, next_obs_batch, done_batch = zip(*random_replay_sample)\n",
        "\n",
        "    return Transition(\n",
        "        np.stack(obs_batch).astype(\"float32\"),\n",
        "        np.asarray(action_batch).astype(\"int32\"),\n",
        "        np.asarray(reward_batch).astype(\"float32\"),\n",
        "        np.stack(next_obs_batch).astype(\"float32\"),\n",
        "        np.asarray(done_batch).astype(\"float32\")\n",
        "    )\n",
        "\n",
        "# Instantiate the memory\n",
        "Q_LEARNING_MEMORY = TransitionMemory(max_size=50_000, batch_size=256)"
      ]
    },
    {
      "cell_type": "markdown",
      "metadata": {
        "id": "XbHk03VVUHAV"
      },
      "source": [
        "### Случайное исследование\n",
        "У нас почти есть все, что нужно для функционирующего агента Q-обучения. Но одна проблема заключается в том, что если мы всегда выбираем действие с наивысшим значением Q, то политика агента будет полностью [детерминированной](https://www.quora.com/What-is-the-intuitive-difference-between-a-stochastic-model-and-a-deterministic-model). Это означает, что агент всегда будет выбирать одну и ту же стратегию. Это может представлять проблему, поскольку в начале обучения Q-сеть будет очень неточной (т. е. плохой аппроксимацией истинной Q-функции). Таким образом, агент будет последовательно выбирать неоптимальные действия. Более того, агент никогда не отклонится от своей неоптимальной стратегии и никогда не обнаружит новые, потенциально более полезные действия. В результате Q-сеть остается неточной. В идеале агент должен опробовать много разных стратегий, чтобы он мог наблюдать результаты (вознаграждения) своих действий в разных состояниях и таким образом улучшить приближение Q-функции.\n",
        "\n",
        "Один простой способ гарантировать, что агент опробует много разных действий, — позволить ему периодически выбирать некоторые случайные действия вместо жадного (лучшего) действия все время.\n",
        "\n",
        "**Упражнение 14:** Реализуйте функцию, которая, учитывая количество возможных (дискретных) действий, возвращает случайное действие.\n",
        "\n",
        "**Полезные методы:**\n",
        "\n",
        "*  `jax.random.randint` ([docs](https://jax.readthedocs.io/en/latest/_autosummary/jax.random.randint.html))"
      ]
    },
    {
      "cell_type": "code",
      "execution_count": null,
      "metadata": {
        "id": "uUKkpMLXUtko"
      },
      "outputs": [],
      "source": [
        "def select_random_action(key, num_actions):\n",
        "\n",
        "    # YOUR CODE\n",
        "    action = jax.random.randint(key, shape=(1,), minval=0, maxval=num_actions)[0]\n",
        "\n",
        "    # END YOUR CODE\n",
        "\n",
        "    return action"
      ]
    },
    {
      "cell_type": "code",
      "execution_count": null,
      "metadata": {
        "id": "NO6va6S2Y40E",
        "colab": {
          "base_uri": "https://localhost:8080/"
        },
        "outputId": "83467213-08db-4f88-f2ff-93e57100d9e8"
      },
      "outputs": [
        {
          "output_type": "stream",
          "name": "stdout",
          "text": [
            "Looks good.\n"
          ]
        }
      ],
      "source": [
        "#@title Проверка упр 14 {display-mode: \"form\"}\n",
        "\n",
        "try:\n",
        "  random_key1 = random_key = jax.random.PRNGKey(6) # random key\n",
        "  random_key2 = random_key = jax.random.PRNGKey(1000) # random key\n",
        "  result1 = select_random_action(random_key1, 2)\n",
        "  result2 = select_random_action(random_key2, 2)\n",
        "\n",
        "  if result1 != 1 or result2 != 0:\n",
        "    print(\"Your implementation looks wrong.\")\n",
        "  else:\n",
        "    print(\"Looks good.\")\n",
        "except:\n",
        "  print(\"Your implementation looks wrong.\")"
      ]
    },
    {
      "cell_type": "markdown",
      "metadata": {
        "id": "8-kKDFT6XU6y"
      },
      "source": [
        "### $\\varepsilon$-greedy action selection (эпсилон жадный выбор действия)\n",
        "В начале обучения, когда точность Q-сети низкая, агенту стоит в основном совершать случайные действия, чтобы он мог узнать, насколько хороши/плохи действия. Однако по мере повышения точности Q-сети агент должен начать совершать меньше случайных действий и вместо этого начать выбирать жадные действия относительно Q-значений. Выбор лучших действий с учетом текущей Q-сети называется **эксплуатацией**. В RL мы часто называем отношение случайных и жадных действий **эпсилоном** $\\varepsilon$. Эпсилон обычно представляет собой десятичное значение в интервале $[0,1]$, где, например, $\\varepsilon=0.4$ означает, что агент выбирает случайное действие в 40% случаев, а жадное действие — в 60% случаев. В RL принято линейно уменьшать значение эпсилон с течением времени, так что агент становится все более жадным по мере повышения точности его Q-сети в процессе обучения.\n",
        "\n",
        "**Упражнение 15:** Реализуйте функцию, которая принимает количество временных шагов в качестве входных данных и возвращает текущее значение эпсилон."
      ]
    },
    {
      "cell_type": "code",
      "execution_count": null,
      "metadata": {
        "id": "_qejnbCocurG"
      },
      "outputs": [],
      "source": [
        "EPSILON_DECAY_TIMESTEPS = 3000 # decay epsilon over 3000 timesteps\n",
        "EPSILON_MIN = 0.1 # 10% exploration"
      ]
    },
    {
      "cell_type": "code",
      "execution_count": null,
      "metadata": {
        "id": "5ujSbssCZyLs"
      },
      "outputs": [],
      "source": [
        "def get_epsilon(num_timesteps):\n",
        "  # YOUR CODE\n",
        "  epsilon = 1.0 - (num_timesteps / EPSILON_DECAY_TIMESTEPS)\n",
        "\n",
        "  epsilon = jax.lax.select(\n",
        "        epsilon < EPSILON_MIN,  # Condition\n",
        "        EPSILON_MIN,  # If epsilon is less than EPSILON_MIN, set it to EPSILON_MIN\n",
        "        epsilon  # Otherwise, keep the computed epsilon\n",
        "    )\n",
        "\n",
        "  # END YOUR CODE\n",
        "\n",
        "  return epsilon"
      ]
    },
    {
      "cell_type": "code",
      "execution_count": null,
      "metadata": {
        "id": "hvu4zA64aUou",
        "colab": {
          "base_uri": "https://localhost:8080/"
        },
        "outputId": "7c008504-1880-41d4-ef41-61e24c2d36da"
      },
      "outputs": [
        {
          "output_type": "stream",
          "name": "stdout",
          "text": [
            "Your function looks correct.\n"
          ]
        }
      ],
      "source": [
        "#@title Проверка упр 15 {display-mode: \"form\"}\n",
        "def check_get_epsilon(get_epsilon):\n",
        "  try:\n",
        "    result1 = get_epsilon(10)\n",
        "    result2 = get_epsilon(5_010)\n",
        "\n",
        "    if result1 != 0.99666667 or result2 != 0.1:\n",
        "      print(\"Your function looks wrong.\")\n",
        "    else:\n",
        "      print(\"Your function looks correct.\")\n",
        "  except:\n",
        "    print(\"Your function looks wrong.\")\n",
        "\n",
        "check_get_epsilon(get_epsilon)\n"
      ]
    },
    {
      "cell_type": "markdown",
      "metadata": {
        "id": "t56oo58TVQ_s"
      },
      "source": [
        "**Упражнение 16:** Теперь давайте объединим эти функции для выполнения эпсилон-жадного выбора действия."
      ]
    },
    {
      "cell_type": "code",
      "execution_count": null,
      "metadata": {
        "id": "NlQx8K4vKUXj"
      },
      "outputs": [],
      "source": [
        "def select_epsilon_greedy_action(key, q_values, num_timesteps):\n",
        "    num_actions = len(q_values) # number of available actions\n",
        "\n",
        "    # YOUR CODE HERE\n",
        "    epsilon = get_epsilon(num_timesteps) # get epsilon value\n",
        "\n",
        "    should_explore = jax.random.uniform(key, shape=(1,))[0] < epsilon # hint: a boolean expression to check if some random number is less than epsilon\n",
        "\n",
        "    action = jax.lax.select(\n",
        "        should_explore,\n",
        "        select_random_action(key, num_actions),  # If should explore\n",
        "        select_greedy_action(q_values)  # If should be greedy\n",
        "    )\n",
        "    # END YOUR CODE\n",
        "\n",
        "    return action"
      ]
    },
    {
      "cell_type": "code",
      "execution_count": null,
      "metadata": {
        "id": "mkVU2a5e7P6b",
        "colab": {
          "base_uri": "https://localhost:8080/"
        },
        "outputId": "da601705-d510-41b4-d4aa-f987bd7dc75c"
      },
      "outputs": [
        {
          "output_type": "stream",
          "name": "stdout",
          "text": [
            "Looks correct!\n"
          ]
        }
      ],
      "source": [
        "#@title Проверка упражнения 16 {display-mode: \"form\"}\n",
        "\n",
        "try:\n",
        "  rng = hk.PRNGSequence(jax.random.PRNGKey(42))\n",
        "  dummy_q_values = jnp.array([0,1], jnp.float32)\n",
        "  num_timesteps = 5010 # very greedy\n",
        "  actions1 = []\n",
        "  for i in range(10):\n",
        "      actions1.append(int(select_epsilon_greedy_action(next(rng), dummy_q_values, num_timesteps)))\n",
        "\n",
        "  num_timesteps = 0 # completly random\n",
        "  actions2 = []\n",
        "  for i in range(10):\n",
        "      actions2.append(int(select_epsilon_greedy_action(next(rng), dummy_q_values, num_timesteps)))\n",
        "\n",
        "  if actions1 != [1, 1, 0, 1, 1, 0, 1, 1, 1, 1] or actions2 != [0, 0, 0, 1, 1, 1, 1, 0, 0, 0]:\n",
        "    print(\"Looks like something might be incorrect!\")\n",
        "  else:\n",
        "    print(\"Looks correct!\")\n",
        "except:\n",
        "  print(\"Looks like something might be incorrect!\")"
      ]
    },
    {
      "cell_type": "markdown",
      "metadata": {
        "id": "y5W23MnobN9x"
      },
      "source": [
        "### Действие выбора Q-learning\n",
        "\n",
        "Теперь у нас есть все необходимое для создания функции `q_learning_select_action`. Мы будем использовать `actor_state` для хранения счетчика, который отслеживает текущее количество временных шагов. Мы можем использовать счетчик для уменьшения нашего значения `epsilon`."
      ]
    },
    {
      "cell_type": "code",
      "execution_count": null,
      "metadata": {
        "id": "81TysLc0RjM6"
      },
      "outputs": [],
      "source": [
        "# Actor state stores the current number of timesteps\n",
        "QActorState = collections.namedtuple(\"ActorState\", [\"count\"])\n",
        "\n",
        "def q_learning_select_action(key, params, actor_state, obs, evaluation=False):\n",
        "    obs = jnp.expand_dims(obs, axis=0) # add dummy batch dim\n",
        "    q_values = Q_NETWORK.apply(params.online, obs)[0] # remove batch dim\n",
        "\n",
        "    action = select_epsilon_greedy_action(key, q_values, actor_state.count)\n",
        "    greedy_action = select_greedy_action(q_values)\n",
        "\n",
        "    action = jax.lax.select(\n",
        "        evaluation,\n",
        "        greedy_action,\n",
        "        action\n",
        "    )\n",
        "\n",
        "    next_actor_state = QActorState(actor_state.count + 1) # increment timestep counter\n",
        "\n",
        "    return action, next_actor_state\n",
        "\n",
        "Q_LEARNING_ACTOR_STATE = QActorState(0) # counter set to zero"
      ]
    },
    {
      "cell_type": "markdown",
      "metadata": {
        "id": "z884-1oNRGEr"
      },
      "source": [
        "### Обучение\n",
        "Теперь мы можем собрать все вместе, используя цикл агент-среда. Но сначала давайте объединим функцию выбора действия и функцию обучения для дополнительной скорости."
      ]
    },
    {
      "cell_type": "code",
      "execution_count": null,
      "metadata": {
        "id": "xbdHDbd1RjM8",
        "colab": {
          "base_uri": "https://localhost:8080/",
          "height": 686
        },
        "outputId": "b0393e42-15e5-4ba1-fd17-3041ff10329a"
      },
      "outputs": [
        {
          "output_type": "stream",
          "name": "stdout",
          "text": [
            "Starting training. This may take up to 8 minutes to complete.\n",
            "Episode: 0\tEpisode Return: 16.0\tAverage Episode Return: 16.0\tEvaluator Episode Return: 9.375\n",
            "Episode: 100\tEpisode Return: 11.0\tAverage Episode Return: 12.45\tEvaluator Episode Return: 9.875\n",
            "Episode: 200\tEpisode Return: 10.0\tAverage Episode Return: 9.45\tEvaluator Episode Return: 9.375\n",
            "Episode: 300\tEpisode Return: 10.0\tAverage Episode Return: 10.0\tEvaluator Episode Return: 9.625\n",
            "Episode: 400\tEpisode Return: 9.0\tAverage Episode Return: 9.6\tEvaluator Episode Return: 9.875\n",
            "Episode: 500\tEpisode Return: 11.0\tAverage Episode Return: 14.8\tEvaluator Episode Return: 9.375\n",
            "Episode: 600\tEpisode Return: 71.0\tAverage Episode Return: 65.55\tEvaluator Episode Return: 45.125\n",
            "Episode: 700\tEpisode Return: 107.0\tAverage Episode Return: 92.6\tEvaluator Episode Return: 154.25\n",
            "Episode: 800\tEpisode Return: 200.0\tAverage Episode Return: 193.2\tEvaluator Episode Return: 200.0\n",
            "Episode: 900\tEpisode Return: 200.0\tAverage Episode Return: 200.0\tEvaluator Episode Return: 200.0\n",
            "Episode: 1000\tEpisode Return: 62.0\tAverage Episode Return: 63.15\tEvaluator Episode Return: 123.5\n"
          ]
        },
        {
          "output_type": "display_data",
          "data": {
            "text/plain": [
              "<Figure size 640x480 with 1 Axes>"
            ],
            "image/png": "[encoded data removed]"
          },
          "metadata": {}
        }
      ],
      "source": [
        "# Jit functions\n",
        "q_learning_select_action_jit = jax.jit(q_learning_select_action)\n",
        "q_learn_jit = jax.jit(q_learn)\n",
        "\n",
        "# Run environment loop\n",
        "print(\"Starting training. This may take up to 8 minutes to complete.\")\n",
        "episode_returns, evaluator_returns = run_training_loop(\n",
        "                                        env_name,\n",
        "                                        Q_LEARNING_PARAMS,\n",
        "                                        q_learning_select_action_jit,\n",
        "                                        Q_LEARNING_ACTOR_STATE,\n",
        "                                        q_learn_jit,\n",
        "                                        Q_LEARNING_LEARN_STATE,\n",
        "                                        Q_LEARNING_MEMORY,\n",
        "                                        num_episodes=1001,\n",
        "                                        train_every_timestep=True, # do learning after every timestep\n",
        "                                        video_subdir=\"q_learning\"\n",
        "                                    )\n",
        "\n",
        "plt.plot(episode_returns)\n",
        "plt.xlabel(\"Episodes\")\n",
        "plt.ylabel(\"Episode Return\")\n",
        "plt.title(\"Deep Q-Learning\")\n",
        "plt.show()"
      ]
    },
    {
      "cell_type": "markdown",
      "metadata": {
        "id": "2k0-41wbpFDE"
      },
      "source": [
        "На этом этапе, как мы надеемся, приближенная Q-функция сошлась к приемлемой политике балансировки шеста в задаче CartPole."
      ]
    },
    {
      "cell_type": "code",
      "execution_count": null,
      "metadata": {
        "id": "t4v0ZbB4FQUs",
        "colab": {
          "base_uri": "https://localhost:8080/",
          "height": 288
        },
        "outputId": "34dfba48-2dcc-404f-f0ed-9afefaf68a8d"
      },
      "outputs": [
        {
          "output_type": "execute_result",
          "data": {
            "text/plain": [
              "<IPython.core.display.HTML object>"
            ],
            "text/html": [
              "\n",
              "<video width=400 controls>\n",
              "      <source src=\"data:video/mp4;base64,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\" type=\"video/mp4\">\n",
              "</video>\n"
            ]
          },
          "metadata": {},
          "execution_count": 106
        }
      ],
      "source": [
        "#@title Визуализация политики\n",
        "#@markdown Выберите номер эпизода, кратный 100 и меньший или равный 1000, и **запустите эту ячейку**.\n",
        "episode_number = 900 #@param {type:\"number\"}\n",
        "\n",
        "assert (episode_number % 100) == 0, \"Episode number must be a multiple of 100 since we only record every 100th episode.\"\n",
        "assert episode_number < 1001, \"Episode number must be less than or equal to 1000\"\n",
        "\n",
        "\n",
        "eval_episode_number = int(episode_number / 100 * 8)\n",
        "video_path = f\"./video/q_learning/eval/rl-video-episode-{eval_episode_number}.mp4\"\n",
        "\n",
        "mp4 = open(video_path,'rb').read()\n",
        "data_url = \"data:video/mp4;base64,\" + b64encode(mp4).decode()\n",
        "HTML(\"\"\"\n",
        "<video width=400 controls>\n",
        "      <source src=\"%s\" type=\"video/mp4\">\n",
        "</video>\n",
        "\"\"\" % data_url)"
      ]
    },
    {
      "cell_type": "markdown",
      "metadata": {
        "id": "fV3YG7QOZD-B"
      },
      "source": [
        "Кроме того, существует множество алгоритмов RL, которые вносят существенные улучшения в REINFORCE и Deep Q-Learning. См. эти ресурсы:\n",
        "* [REINFORCE с базовым уровнем](https://spinningup.openai.com/en/latest/spinningup/rl_intro3.html#baselines-in-policy-gradients)\n",
        "* [Double Deep Q-Network](https://arxiv.org/pdf/1509.06461.pdf)\n",
        "* [Proximal Policy Optimisation (PPO)](https://arxiv.org/pdf/1707.06347.pdf)\n",
        "\n",
        "Если вы ищете более углубленный онлайн-курс по RL, вы можете ознакомиться с этими курсами:\n",
        "* [Reinforcement Learning Foundations on LinkedIn Learning](https://www.linkedin.com/learning/reinforcement-learning-foundations) (создано одним из наших собственных преподавателей, Хаулатом Абдулхакимом)\n",
        "* [Введение в Reinforcement Learning on FreeCodeCamp](https://www.freecodecamp.org/news/an-introduction-to-reinforcement-learning-4339519de419/)\n",
        "* [Специализация обучения с подкреплением на Coursera](https://www.coursera.org/specializations/reinforcement-learning)\n",
        "\n",
        "Наконец, самый влиятельный учебник по обучению с подкреплением доступен бесплатно онлайн:\n",
        "* [Обучение с подкреплением: введение](http://incompleteideas.net/book/the-book-2nd.html) Ричарда С. Саттона и Эндрю Г. Барто\n",
        "\n",
        "\n",
        "**Ссылки:**\n",
        "\n",
        "* [OpenAI Spinning Up](https://spinningup.openai.com/en/latest/)\n",
        "* [Deep Q-Network]()"
      ]
    },
    {
      "cell_type": "code",
      "source": [],
      "metadata": {
        "id": "6V47Vd_i3qk7"
      },
      "execution_count": null,
      "outputs": []
    }
  ],
  "metadata": {
    "colab": {
      "provenance": [],
      "gpuType": "T4"
    },
    "kernelspec": {
      "display_name": "Python 3",
      "name": "python3"
    },
    "language_info": {
      "codemirror_mode": {
        "name": "ipython",
        "version": 3
      },
      "file_extension": ".py",
      "mimetype": "text/x-python",
      "name": "python",
      "nbconvert_exporter": "python",
      "pygments_lexer": "ipython3",
      "version": "3.8.13"
    },
    "vscode": {
      "interpreter": {
        "hash": "0f35138c66f99be0fd7a1210bb4aa94a6fbaa5f29d51ad43aec0e0ea0ff050f0"
      }
    }
  },
  "nbformat": 4,
  "nbformat_minor": 0
}